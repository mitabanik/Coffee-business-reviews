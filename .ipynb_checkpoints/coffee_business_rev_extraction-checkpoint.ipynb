{
 "cells": [
  {
   "cell_type": "code",
   "execution_count": 1,
   "id": "b5fd05a6",
   "metadata": {},
   "outputs": [],
   "source": [
    "import pandas as pd\n",
    "import string\n",
    "from sklearn.feature_extraction.text import TfidfVectorizer , CountVectorizer\n",
    "import matplotlib.pyplot as plt\n",
    "import matplotlib.image as mpimg\n",
    "from shapely.geometry import Point\n",
    "import geopandas \n",
    "from geopandas import GeoDataFrame"
   ]
  },
  {
   "cell_type": "code",
   "execution_count": 2,
   "id": "dda7aa78",
   "metadata": {
    "scrolled": true
   },
   "outputs": [],
   "source": [
    "business = pd.read_json(\"yelp_academic_dataset_business.json\", lines=True)"
   ]
  },
  {
   "cell_type": "code",
   "execution_count": 3,
   "id": "076d3c4f",
   "metadata": {},
   "outputs": [
    {
     "data": {
      "text/html": [
       "<div>\n",
       "<style scoped>\n",
       "    .dataframe tbody tr th:only-of-type {\n",
       "        vertical-align: middle;\n",
       "    }\n",
       "\n",
       "    .dataframe tbody tr th {\n",
       "        vertical-align: top;\n",
       "    }\n",
       "\n",
       "    .dataframe thead th {\n",
       "        text-align: right;\n",
       "    }\n",
       "</style>\n",
       "<table border=\"1\" class=\"dataframe\">\n",
       "  <thead>\n",
       "    <tr style=\"text-align: right;\">\n",
       "      <th></th>\n",
       "      <th>business_id</th>\n",
       "      <th>name</th>\n",
       "      <th>address</th>\n",
       "      <th>city</th>\n",
       "      <th>state</th>\n",
       "      <th>postal_code</th>\n",
       "      <th>latitude</th>\n",
       "      <th>longitude</th>\n",
       "      <th>stars</th>\n",
       "      <th>review_count</th>\n",
       "      <th>is_open</th>\n",
       "      <th>attributes</th>\n",
       "      <th>categories</th>\n",
       "      <th>hours</th>\n",
       "    </tr>\n",
       "  </thead>\n",
       "  <tbody>\n",
       "    <tr>\n",
       "      <th>150473</th>\n",
       "      <td>n1H5tE4Ce1UIgAcQ7-gKJg</td>\n",
       "      <td>Global Resort Homes</td>\n",
       "      <td>7796 W Irlo Bronson Memorial Hwy</td>\n",
       "      <td>Kissimmee</td>\n",
       "      <td>FL</td>\n",
       "      <td>34747</td>\n",
       "      <td>28.341281</td>\n",
       "      <td>-81.599609</td>\n",
       "      <td>3.0</td>\n",
       "      <td>14</td>\n",
       "      <td>1</td>\n",
       "      <td>{'WiFi': 'u'free'', 'BusinessAcceptsCreditCard...</td>\n",
       "      <td>Event Planning &amp; Services, Hotels, Hotels &amp; Tr...</td>\n",
       "      <td>{'Monday': '0:0-0:0', 'Tuesday': '9:0-19:0', '...</td>\n",
       "    </tr>\n",
       "  </tbody>\n",
       "</table>\n",
       "</div>"
      ],
      "text/plain": [
       "                   business_id                 name  \\\n",
       "150473  n1H5tE4Ce1UIgAcQ7-gKJg  Global Resort Homes   \n",
       "\n",
       "                                 address       city state postal_code  \\\n",
       "150473  7796 W Irlo Bronson Memorial Hwy  Kissimmee    FL       34747   \n",
       "\n",
       "         latitude  longitude  stars  review_count  is_open  \\\n",
       "150473  28.341281 -81.599609    3.0            14        1   \n",
       "\n",
       "                                               attributes  \\\n",
       "150473  {'WiFi': 'u'free'', 'BusinessAcceptsCreditCard...   \n",
       "\n",
       "                                               categories  \\\n",
       "150473  Event Planning & Services, Hotels, Hotels & Tr...   \n",
       "\n",
       "                                                    hours  \n",
       "150473  {'Monday': '0:0-0:0', 'Tuesday': '9:0-19:0', '...  "
      ]
     },
     "execution_count": 3,
     "metadata": {},
     "output_type": "execute_result"
    }
   ],
   "source": [
    "business.sample()"
   ]
  },
  {
   "cell_type": "code",
   "execution_count": null,
   "id": "b79a2126",
   "metadata": {},
   "outputs": [],
   "source": [
    "%%time\n",
    "chunksize = 10 ** 5\n",
    "data = []\n",
    "for chunk in pd.read_json(\"yelp_academic_dataset_review.json\", lines=True, chunksize=chunksize):\n",
    "    data.append(chunk)"
   ]
  },
  {
   "cell_type": "code",
   "execution_count": null,
   "id": "29ea2ce8",
   "metadata": {},
   "outputs": [],
   "source": [
    "coffee = business[business['categories'].str.find('Coffee')==0].reset_index( drop = True)\n",
    "#coffee_bus.shape\n"
   ]
  },
  {
   "cell_type": "code",
   "execution_count": null,
   "id": "474660dd",
   "metadata": {},
   "outputs": [],
   "source": [
    "coffee.info()"
   ]
  },
  {
   "cell_type": "code",
   "execution_count": null,
   "id": "4aeb50eb",
   "metadata": {},
   "outputs": [],
   "source": [
    "coffee.sample()"
   ]
  },
  {
   "cell_type": "code",
   "execution_count": null,
   "id": "35491032",
   "metadata": {},
   "outputs": [],
   "source": [
    "gdf = geopandas.GeoDataFrame(\n",
    "    coffee, geometry=geopandas.points_from_xy(coffee.longitude, coffee.latitude))\n",
    "\n",
    "world = geopandas.read_file(geopandas.datasets.get_path('naturalearth_lowres'))\n",
    "\n",
    "\n",
    "ax = world[world.continent == 'North America'].plot(\n",
    "    color='white', edgecolor='black')\n",
    "\n",
    "# We can now plot our ``GeoDataFrame``.\n",
    "gdf.plot(ax=ax, color='blue')\n",
    "plt.rcParams[\"figure.figsize\"] = (15,15)\n",
    "plt.show()"
   ]
  },
  {
   "cell_type": "code",
   "execution_count": null,
   "id": "1894237f",
   "metadata": {},
   "outputs": [],
   "source": [
    "coffee_rev=pd.DataFrame()\n",
    "for chunk in data:\n",
    "    temp=pd.merge(chunk, coffee, on = 'business_id')\n",
    "    coffee_rev=pd.concat([coffee_rev,temp])"
   ]
  },
  {
   "cell_type": "code",
   "execution_count": null,
   "id": "5b114e06",
   "metadata": {},
   "outputs": [],
   "source": [
    "#saving the coffee reviews\n",
    "coffee_rev.to_csv('coffee_reviews.csv',index=False , encoding='utf-8')"
   ]
  },
  {
   "cell_type": "code",
   "execution_count": null,
   "id": "866e326c",
   "metadata": {},
   "outputs": [],
   "source": [
    "coffee_rev.info()"
   ]
  },
  {
   "cell_type": "code",
   "execution_count": null,
   "id": "b03ff4f6",
   "metadata": {},
   "outputs": [],
   "source": [
    "coffee_rev.sample()"
   ]
  }
 ],
 "metadata": {
  "kernelspec": {
   "display_name": "Python 3 (ipykernel)",
   "language": "python",
   "name": "python3"
  },
  "language_info": {
   "codemirror_mode": {
    "name": "ipython",
    "version": 3
   },
   "file_extension": ".py",
   "mimetype": "text/x-python",
   "name": "python",
   "nbconvert_exporter": "python",
   "pygments_lexer": "ipython3",
   "version": "3.8.12"
  }
 },
 "nbformat": 4,
 "nbformat_minor": 5
}
