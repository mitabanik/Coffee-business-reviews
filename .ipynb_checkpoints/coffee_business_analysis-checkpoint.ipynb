{
 "cells": [
  {
   "cell_type": "code",
   "execution_count": 1,
   "id": "8ffa4792",
   "metadata": {},
   "outputs": [],
   "source": [
    "import pandas as pd\n",
    "import string\n",
    "from sklearn.feature_extraction.text import TfidfVectorizer , CountVectorizer\n",
    "import matplotlib.pyplot as plt\n",
    "import matplotlib.image as mpimg\n",
    "from shapely.geometry import Point\n",
    "import geopandas \n",
    "from geopandas import GeoDataFrame"
   ]
  },
  {
   "cell_type": "code",
   "execution_count": 7,
   "id": "7b667f52",
   "metadata": {},
   "outputs": [],
   "source": [
    "coffee_buz =  pd.read_csv('coffee_businesses.csv')"
   ]
  },
  {
   "cell_type": "code",
   "execution_count": 8,
   "id": "e0605b41",
   "metadata": {},
   "outputs": [
    {
     "name": "stdout",
     "output_type": "stream",
     "text": [
      "<class 'pandas.core.frame.DataFrame'>\n",
      "RangeIndex: 2061 entries, 0 to 2060\n",
      "Data columns (total 14 columns):\n",
      " #   Column        Non-Null Count  Dtype  \n",
      "---  ------        --------------  -----  \n",
      " 0   business_id   2061 non-null   object \n",
      " 1   name          2061 non-null   object \n",
      " 2   address       2054 non-null   object \n",
      " 3   city          2061 non-null   object \n",
      " 4   state         2061 non-null   object \n",
      " 5   postal_code   2061 non-null   object \n",
      " 6   latitude      2061 non-null   float64\n",
      " 7   longitude     2061 non-null   float64\n",
      " 8   stars         2061 non-null   float64\n",
      " 9   review_count  2061 non-null   int64  \n",
      " 10  is_open       2061 non-null   int64  \n",
      " 11  attributes    2044 non-null   object \n",
      " 12  categories    2061 non-null   object \n",
      " 13  hours         1794 non-null   object \n",
      "dtypes: float64(3), int64(2), object(9)\n",
      "memory usage: 225.5+ KB\n"
     ]
    }
   ],
   "source": [
    "coffee_buz.info()"
   ]
  },
  {
   "cell_type": "code",
   "execution_count": 9,
   "id": "74a6c493",
   "metadata": {},
   "outputs": [
    {
     "data": {
      "text/html": [
       "<div>\n",
       "<style scoped>\n",
       "    .dataframe tbody tr th:only-of-type {\n",
       "        vertical-align: middle;\n",
       "    }\n",
       "\n",
       "    .dataframe tbody tr th {\n",
       "        vertical-align: top;\n",
       "    }\n",
       "\n",
       "    .dataframe thead th {\n",
       "        text-align: right;\n",
       "    }\n",
       "</style>\n",
       "<table border=\"1\" class=\"dataframe\">\n",
       "  <thead>\n",
       "    <tr style=\"text-align: right;\">\n",
       "      <th></th>\n",
       "      <th>business_id</th>\n",
       "      <th>name</th>\n",
       "      <th>address</th>\n",
       "      <th>city</th>\n",
       "      <th>state</th>\n",
       "      <th>postal_code</th>\n",
       "      <th>latitude</th>\n",
       "      <th>longitude</th>\n",
       "      <th>stars</th>\n",
       "      <th>review_count</th>\n",
       "      <th>is_open</th>\n",
       "      <th>attributes</th>\n",
       "      <th>categories</th>\n",
       "      <th>hours</th>\n",
       "    </tr>\n",
       "  </thead>\n",
       "  <tbody>\n",
       "    <tr>\n",
       "      <th>1383</th>\n",
       "      <td>XnlULC7HtAsjO064ZS0lgA</td>\n",
       "      <td>Starbucks</td>\n",
       "      <td>805 Boyd Street, Suite 150</td>\n",
       "      <td>New Westminster</td>\n",
       "      <td>BC</td>\n",
       "      <td>V3M 5X2</td>\n",
       "      <td>49.192059</td>\n",
       "      <td>-122.949147</td>\n",
       "      <td>3.0</td>\n",
       "      <td>18</td>\n",
       "      <td>1</td>\n",
       "      <td>{'BusinessParking': \"{'garage': False, 'street...</td>\n",
       "      <td>Coffee &amp; Tea, Food</td>\n",
       "      <td>{'Monday': '5:0-21:0', 'Tuesday': '5:0-21:0', ...</td>\n",
       "    </tr>\n",
       "  </tbody>\n",
       "</table>\n",
       "</div>"
      ],
      "text/plain": [
       "                 business_id       name                     address  \\\n",
       "1383  XnlULC7HtAsjO064ZS0lgA  Starbucks  805 Boyd Street, Suite 150   \n",
       "\n",
       "                 city state postal_code   latitude   longitude  stars  \\\n",
       "1383  New Westminster    BC     V3M 5X2  49.192059 -122.949147    3.0   \n",
       "\n",
       "      review_count  is_open  \\\n",
       "1383            18        1   \n",
       "\n",
       "                                             attributes          categories  \\\n",
       "1383  {'BusinessParking': \"{'garage': False, 'street...  Coffee & Tea, Food   \n",
       "\n",
       "                                                  hours  \n",
       "1383  {'Monday': '5:0-21:0', 'Tuesday': '5:0-21:0', ...  "
      ]
     },
     "execution_count": 9,
     "metadata": {},
     "output_type": "execute_result"
    }
   ],
   "source": [
    "coffee_buz.sample()"
   ]
  },
  {
   "cell_type": "code",
   "execution_count": null,
   "id": "a093ec1b",
   "metadata": {},
   "outputs": [],
   "source": [
    "def split(s):\n",
    "    return s.split(\", \")\n",
    "\n",
    "#extracting categories\n",
    "def categories_type(l):\n",
    "    d = {}\n",
    "    l=l.dropna().copy()\n",
    "    l['categories'] = l['categories'].apply(split)\n",
    "    for row in l.index:\n",
    "        stars = l.loc[row, ]['stars']\n",
    "        for c in l.loc[row, ]['categories']:\n",
    "            \n",
    "            if c not in d.keys():\n",
    "                d[c] = [stars]\n",
    "            else:\n",
    "                d[c].append(stars)\n",
    "    \n",
    "    rest_categories = pd.DataFrame({'stars':list(d.values())})\n",
    "    rest_categories.index = d.keys()\n",
    "    rest_categories['number'] = rest_categories['stars'].apply(lambda a : len(a))\n",
    "    rest_categories['percentage'] = rest_categories['number'] / len(l) * 100\n",
    "    rest_categories['average_stars'] = rest_categories['stars'].apply(lambda a : sum(a) / len(a))\n",
    "    rest_categories = rest_categories.drop(['stars'], axis=1)\n",
    "    \n",
    "    return rest_categories\n",
    "\n",
    "#extracting attributes\n",
    "def attributes(l):\n",
    "    d = {}\n",
    "    l=l.dropna().copy()\n",
    "    for row in l.index:\n",
    "        stars = l.loc[row, ]['stars']\n",
    "        for c in l.loc[row, ]['attributes']:\n",
    "            if c not in d.keys():\n",
    "                d[c] = [stars]\n",
    "            else:\n",
    "                d[c].append(stars)\n",
    "    \n",
    "    rest_categories = pd.DataFrame({'stars':list(d.values())})\n",
    "    rest_categories.index = d.keys()\n",
    "    rest_categories['number'] = rest_categories['stars'].apply(lambda a : len(a))\n",
    "    rest_categories['percentage'] = rest_categories['number'] / len(l) * 100\n",
    "    rest_categories['average_stars'] = rest_categories['stars'].apply(lambda a : sum(a) / len(a))\n",
    "    rest_categories = rest_categories.drop(['stars'], axis=1)\n",
    "    \n",
    "    return rest_categories"
   ]
  }
 ],
 "metadata": {
  "kernelspec": {
   "display_name": "Python 3 (ipykernel)",
   "language": "python",
   "name": "python3"
  },
  "language_info": {
   "codemirror_mode": {
    "name": "ipython",
    "version": 3
   },
   "file_extension": ".py",
   "mimetype": "text/x-python",
   "name": "python",
   "nbconvert_exporter": "python",
   "pygments_lexer": "ipython3",
   "version": "3.8.12"
  }
 },
 "nbformat": 4,
 "nbformat_minor": 5
}
