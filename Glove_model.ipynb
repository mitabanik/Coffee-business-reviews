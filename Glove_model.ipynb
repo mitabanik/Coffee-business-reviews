{
 "cells": [
  {
   "cell_type": "code",
   "execution_count": 1,
   "id": "5e1bc76a",
   "metadata": {
    "execution": {
     "iopub.execute_input": "2022-01-10T01:16:16.048760Z",
     "iopub.status.busy": "2022-01-10T01:16:16.048251Z",
     "iopub.status.idle": "2022-01-10T01:16:17.955700Z",
     "shell.execute_reply": "2022-01-10T01:16:17.955176Z"
    }
   },
   "outputs": [],
   "source": [
    "import numpy as np\n",
    "import pandas as pd\n",
    "import tensorflow\n",
    "from tensorflow import keras\n",
    "from keras.models import Model\n",
    "from keras.layers import Input, Dense, Embedding, SpatialDropout1D, add, concatenate\n",
    "from keras.layers import CuDNNLSTM, Bidirectional, GlobalMaxPooling1D, GlobalAveragePooling1D\n",
    "from keras.preprocessing import text, sequence\n",
    "from gensim.models import KeyedVectors\n",
    "import pandas as pd\n",
    "import numpy as np\n",
    "import xgboost as xgb\n",
    "from tqdm import tqdm\n",
    "from sklearn.svm import SVC\n",
    "import tensorflow as tf\n",
    "import seaborn as sns\n",
    "import matplotlib.pyplot as plt\n",
    "from keras.models import Sequential\n",
    "from keras.layers.recurrent import LSTM, GRU\n",
    "from keras.layers.core import Dense, Activation, Dropout\n",
    "from keras.layers.embeddings import Embedding\n",
    "from tensorflow.keras.layers import BatchNormalization\n",
    "from keras.utils import np_utils\n",
    "from sklearn.metrics import classification_report,confusion_matrix,ConfusionMatrixDisplay\n",
    "from sklearn import preprocessing, decomposition, model_selection, metrics, pipeline\n",
    "from sklearn.model_selection import GridSearchCV\n",
    "from sklearn.feature_extraction.text import TfidfVectorizer, CountVectorizer\n",
    "from sklearn.decomposition import TruncatedSVD\n",
    "from sklearn.linear_model import LogisticRegression\n",
    "from sklearn.model_selection import train_test_split\n",
    "from sklearn.naive_bayes import MultinomialNB\n",
    "from keras.layers import GlobalMaxPooling1D, Conv1D, MaxPooling1D, Flatten, Bidirectional, SpatialDropout1D\n",
    "from keras.preprocessing import sequence, text\n",
    "from keras.callbacks import EarlyStopping\n",
    "from nltk import word_tokenize\n",
    "from nltk.corpus import stopwords\n",
    "stop_words = stopwords.words('english')\n",
    "\n",
    "from sklearn import preprocessing, decomposition, model_selection, metrics, pipeline"
   ]
  },
  {
   "cell_type": "code",
   "execution_count": 2,
   "id": "a13d29b5",
   "metadata": {
    "execution": {
     "iopub.execute_input": "2022-01-10T01:16:17.961873Z",
     "iopub.status.busy": "2022-01-10T01:16:17.961308Z",
     "iopub.status.idle": "2022-01-10T01:16:19.110896Z",
     "shell.execute_reply": "2022-01-10T01:16:19.110458Z"
    }
   },
   "outputs": [],
   "source": [
    "data = pd.read_csv(\"coffee_reviews.csv\")\n",
    "#data=data.loc[data['stars_x']>=3]"
   ]
  },
  {
   "cell_type": "code",
   "execution_count": 3,
   "id": "eaaaab27",
   "metadata": {
    "execution": {
     "iopub.execute_input": "2022-01-10T01:16:19.147435Z",
     "iopub.status.busy": "2022-01-10T01:16:19.115454Z",
     "iopub.status.idle": "2022-01-10T01:16:19.785408Z",
     "shell.execute_reply": "2022-01-10T01:16:19.784967Z"
    }
   },
   "outputs": [
    {
     "name": "stderr",
     "output_type": "stream",
     "text": [
      "/tmp/ipykernel_254114/3415193883.py:12: FutureWarning: The default value of regex will change from True to False in a future version.\n",
      "  data['clean_text']= data.text.str.replace('\\n',''). \\\n"
     ]
    }
   ],
   "source": [
    "data['sentiment'] = 0* data['stars_x']\n",
    "def sent(num):\n",
    "    num=int(num)\n",
    "    if num<=3:\n",
    "        return 0\n",
    "    if num>3:\n",
    "        return 1\n",
    "data['sentiment']=data.stars_x.apply(sent)\n",
    "data.text = data.text.str.lower()\n",
    "\n",
    "## remove unnecessary punctuation\n",
    "data['clean_text']= data.text.str.replace('\\n',''). \\\n",
    "                                          str.replace('[!\"#$%&\\()*+,-./:;<=>?@[\\\\]^_`{|}~]','')"
   ]
  },
  {
   "cell_type": "code",
   "execution_count": 4,
   "id": "52da4f6d",
   "metadata": {
    "execution": {
     "iopub.execute_input": "2022-01-10T01:16:19.789313Z",
     "iopub.status.busy": "2022-01-10T01:16:19.788832Z",
     "iopub.status.idle": "2022-01-10T01:16:19.952879Z",
     "shell.execute_reply": "2022-01-10T01:16:19.952429Z"
    }
   },
   "outputs": [],
   "source": [
    "from sklearn.model_selection import train_test_split\n",
    "X,X_test,y,y_test = train_test_split(data,data.sentiment,stratify=data.sentiment,test_size=0.2,random_state=11)\n",
    "x_train,x_valid,y_train,y_valid = train_test_split(X,X.sentiment,stratify=X.sentiment,test_size=0.3,random_state=11)\n"
   ]
  },
  {
   "cell_type": "code",
   "execution_count": 5,
   "id": "eedb8076",
   "metadata": {
    "execution": {
     "iopub.execute_input": "2022-01-10T01:16:19.957725Z",
     "iopub.status.busy": "2022-01-10T01:16:19.957067Z",
     "iopub.status.idle": "2022-01-10T01:17:44.915219Z",
     "shell.execute_reply": "2022-01-10T01:17:44.914805Z"
    }
   },
   "outputs": [
    {
     "name": "stderr",
     "output_type": "stream",
     "text": [
      "2196018it [01:24, 25849.49it/s]"
     ]
    },
    {
     "name": "stdout",
     "output_type": "stream",
     "text": [
      "Found 2195885 word vectors.\n"
     ]
    },
    {
     "name": "stderr",
     "output_type": "stream",
     "text": [
      "\n"
     ]
    }
   ],
   "source": [
    "#using glove embeddings\n",
    "from tqdm import tqdm\n",
    "embeddings_index = {}\n",
    "f = open('glove.840B.300d.txt')\n",
    "for line in tqdm(f):\n",
    "    values = line.split()\n",
    "    word = values[0]\n",
    "    try:\n",
    "        coefs = np.asarray(values[1:], dtype='float32')\n",
    "    except ValueError :\n",
    "        continue\n",
    "    embeddings_index[word] = coefs\n",
    "f.close()\n",
    "\n",
    "print('Found %s word vectors.' % len(embeddings_index))"
   ]
  },
  {
   "cell_type": "code",
   "execution_count": 6,
   "id": "f3baf38b",
   "metadata": {
    "execution": {
     "iopub.execute_input": "2022-01-10T01:17:44.919206Z",
     "iopub.status.busy": "2022-01-10T01:17:44.918726Z",
     "iopub.status.idle": "2022-01-10T01:17:44.920536Z",
     "shell.execute_reply": "2022-01-10T01:17:44.920096Z"
    }
   },
   "outputs": [],
   "source": [
    "def sent2vec(s):\n",
    "    words = str(s)\n",
    "    words = word_tokenize(words)\n",
    "    words = [w for w in words if not w in stop_words]\n",
    "    words = [w for w in words if w.isalpha()]\n",
    "    M = []\n",
    "    for w in words:\n",
    "        try:\n",
    "            M.append(embeddings_index[w])\n",
    "        except:\n",
    "            continue\n",
    "    M = np.array(M)\n",
    "    v = M.sum(axis=0)\n",
    "    if type(v) != np.ndarray:\n",
    "        return np.zeros(300)\n",
    "    return v / np.sqrt((v ** 2).sum())"
   ]
  },
  {
   "cell_type": "code",
   "execution_count": 7,
   "id": "2d67f1e5",
   "metadata": {
    "execution": {
     "iopub.execute_input": "2022-01-10T01:17:44.923654Z",
     "iopub.status.busy": "2022-01-10T01:17:44.923276Z",
     "iopub.status.idle": "2022-01-10T01:18:12.873043Z",
     "shell.execute_reply": "2022-01-10T01:18:12.872610Z"
    }
   },
   "outputs": [
    {
     "name": "stderr",
     "output_type": "stream",
     "text": [
      "100%|███████████████████████████████████| 69449/69449 [00:19<00:00, 3546.04it/s]\n",
      "100%|███████████████████████████████████| 29764/29764 [00:08<00:00, 3560.62it/s]\n"
     ]
    }
   ],
   "source": [
    "xtrain_glove = [sent2vec(x) for x in tqdm(x_train.clean_text)]\n",
    "xvalid_glove = [sent2vec(x) for x in tqdm(x_valid.clean_text)]"
   ]
  },
  {
   "cell_type": "code",
   "execution_count": 8,
   "id": "e6daaef1",
   "metadata": {
    "execution": {
     "iopub.execute_input": "2022-01-10T01:18:12.880623Z",
     "iopub.status.busy": "2022-01-10T01:18:12.880172Z",
     "iopub.status.idle": "2022-01-10T01:18:12.970059Z",
     "shell.execute_reply": "2022-01-10T01:18:12.969725Z"
    }
   },
   "outputs": [
    {
     "data": {
      "text/plain": [
       "(69449, 300)"
      ]
     },
     "execution_count": 8,
     "metadata": {},
     "output_type": "execute_result"
    }
   ],
   "source": [
    "xtrain_glove = np.array(xtrain_glove)\n",
    "xvalid_glove = np.array(xvalid_glove)\n",
    "xtrain_glove.shape"
   ]
  },
  {
   "cell_type": "code",
   "execution_count": 9,
   "id": "ca527200",
   "metadata": {
    "execution": {
     "iopub.execute_input": "2022-01-10T01:18:12.972659Z",
     "iopub.status.busy": "2022-01-10T01:18:12.972281Z",
     "iopub.status.idle": "2022-01-10T01:18:13.209867Z",
     "shell.execute_reply": "2022-01-10T01:18:13.209555Z"
    }
   },
   "outputs": [],
   "source": [
    "#scaling train and validation sets\n",
    "scl = preprocessing.StandardScaler()\n",
    "xtrain_glove_scl = scl.fit_transform(xtrain_glove)\n",
    "xvalid_glove_scl = scl.transform(xvalid_glove)"
   ]
  },
  {
   "cell_type": "markdown",
   "id": "65f28fd4",
   "metadata": {},
   "source": [
    "We start with a simple Logistic regression model."
   ]
  },
  {
   "cell_type": "code",
   "execution_count": 10,
   "id": "97d899bd",
   "metadata": {
    "execution": {
     "iopub.execute_input": "2022-01-10T01:18:13.213471Z",
     "iopub.status.busy": "2022-01-10T01:18:13.212996Z",
     "iopub.status.idle": "2022-01-10T01:18:18.294860Z",
     "shell.execute_reply": "2022-01-10T01:18:18.295194Z"
    }
   },
   "outputs": [
    {
     "name": "stdout",
     "output_type": "stream",
     "text": [
      "Train accuracy :  0.8710996558625754\n",
      "Validation accuracy :  0.8689020292971374\n"
     ]
    }
   ],
   "source": [
    "lreg=LogisticRegression(max_iter=1000,C=100)\n",
    "lreg.fit(xtrain_glove_scl,y_train)\n",
    "print(\"Train accuracy : \",lreg.score(xtrain_glove_scl,y_train))\n",
    "print(\"Validation accuracy : \",lreg.score(xvalid_glove_scl,y_valid))"
   ]
  },
  {
   "cell_type": "code",
   "execution_count": 11,
   "id": "cdbc633e",
   "metadata": {
    "execution": {
     "iopub.execute_input": "2022-01-10T01:18:18.296904Z",
     "iopub.status.busy": "2022-01-10T01:18:18.296579Z",
     "iopub.status.idle": "2022-01-10T01:18:18.342470Z",
     "shell.execute_reply": "2022-01-10T01:18:18.342794Z"
    }
   },
   "outputs": [
    {
     "name": "stdout",
     "output_type": "stream",
     "text": [
      "              precision    recall  f1-score   support\n",
      "\n",
      "           0       0.73      0.81      0.77      8132\n",
      "           1       0.93      0.89      0.91     21632\n",
      "\n",
      "    accuracy                           0.87     29764\n",
      "   macro avg       0.83      0.85      0.84     29764\n",
      "weighted avg       0.87      0.87      0.87     29764\n",
      "\n"
     ]
    }
   ],
   "source": [
    "print(classification_report(lreg.predict(xvalid_glove_scl),y_valid))"
   ]
  },
  {
   "cell_type": "code",
   "execution_count": 12,
   "id": "a226f0dd",
   "metadata": {
    "execution": {
     "iopub.execute_input": "2022-01-10T01:18:18.344433Z",
     "iopub.status.busy": "2022-01-10T01:18:18.344101Z",
     "iopub.status.idle": "2022-01-10T01:18:18.463979Z",
     "shell.execute_reply": "2022-01-10T01:18:18.464185Z"
    }
   },
   "outputs": [
    {
     "data": {
      "text/plain": [
       "<AxesSubplot:>"
      ]
     },
     "execution_count": 12,
     "metadata": {},
     "output_type": "execute_result"
    },
    {
     "data": {
      "image/png": "[encoded data removed]",
      "text/plain": [
       "<Figure size 432x288 with 2 Axes>"
      ]
     },
     "metadata": {
      "needs_background": "light"
     },
     "output_type": "display_data"
    }
   ],
   "source": [
    "cm = confusion_matrix(y_valid , lreg.predict(xvalid_glove_scl))\n",
    "sns.heatmap(cm, annot=True,fmt='', cmap='Blues')\n"
   ]
  },
  {
   "cell_type": "code",
   "execution_count": 13,
   "id": "4f7d521c",
   "metadata": {
    "execution": {
     "iopub.execute_input": "2022-01-10T01:18:18.466071Z",
     "iopub.status.busy": "2022-01-10T01:18:18.465836Z",
     "iopub.status.idle": "2022-01-10T01:18:18.467510Z",
     "shell.execute_reply": "2022-01-10T01:18:18.467720Z"
    }
   },
   "outputs": [],
   "source": [
    "ytrain_enc = np_utils.to_categorical(y_train)\n",
    "yvalid_enc = np_utils.to_categorical(y_valid)"
   ]
  },
  {
   "cell_type": "code",
   "execution_count": 14,
   "id": "c402e2c3",
   "metadata": {
    "execution": {
     "iopub.execute_input": "2022-01-10T01:18:18.471088Z",
     "iopub.status.busy": "2022-01-10T01:18:18.470803Z",
     "iopub.status.idle": "2022-01-10T01:18:19.564391Z",
     "shell.execute_reply": "2022-01-10T01:18:19.564776Z"
    }
   },
   "outputs": [
    {
     "name": "stdout",
     "output_type": "stream",
     "text": [
      "Model: \"sequential\"\n",
      "_________________________________________________________________\n",
      " Layer (type)                Output Shape              Param #   \n",
      "=================================================================\n",
      " dense (Dense)               (None, 512)               154112    \n",
      "                                                                 \n",
      " dropout (Dropout)           (None, 512)               0         \n",
      "                                                                 \n",
      " batch_normalization (BatchN  (None, 512)              2048      \n",
      " ormalization)                                                   \n",
      "                                                                 \n",
      " dense_1 (Dense)             (None, 128)               65664     \n",
      "                                                                 \n",
      " dropout_1 (Dropout)         (None, 128)               0         \n",
      "                                                                 \n",
      " batch_normalization_1 (Batc  (None, 128)              512       \n",
      " hNormalization)                                                 \n",
      "                                                                 \n",
      " dense_2 (Dense)             (None, 128)               16512     \n",
      "                                                                 \n",
      " dropout_2 (Dropout)         (None, 128)               0         \n",
      "                                                                 \n",
      " batch_normalization_2 (Batc  (None, 128)              512       \n",
      " hNormalization)                                                 \n",
      "                                                                 \n",
      " dense_3 (Dense)             (None, 64)                8256      \n",
      "                                                                 \n",
      " dropout_3 (Dropout)         (None, 64)                0         \n",
      "                                                                 \n",
      " dense_4 (Dense)             (None, 2)                 130       \n",
      "                                                                 \n",
      " activation (Activation)     (None, 2)                 0         \n",
      "                                                                 \n",
      "=================================================================\n",
      "Total params: 247,746\n",
      "Trainable params: 246,210\n",
      "Non-trainable params: 1,536\n",
      "_________________________________________________________________\n"
     ]
    },
    {
     "name": "stderr",
     "output_type": "stream",
     "text": [
      "2022-01-10 06:48:18.548834: I tensorflow/stream_executor/cuda/cuda_gpu_executor.cc:939] successful NUMA node read from SysFS had negative value (-1), but there must be at least one NUMA node, so returning NUMA node zero\n",
      "2022-01-10 06:48:18.549168: I tensorflow/stream_executor/cuda/cuda_gpu_executor.cc:939] successful NUMA node read from SysFS had negative value (-1), but there must be at least one NUMA node, so returning NUMA node zero\n",
      "2022-01-10 06:48:18.582821: I tensorflow/stream_executor/cuda/cuda_gpu_executor.cc:939] successful NUMA node read from SysFS had negative value (-1), but there must be at least one NUMA node, so returning NUMA node zero\n",
      "2022-01-10 06:48:18.583152: I tensorflow/stream_executor/cuda/cuda_gpu_executor.cc:939] successful NUMA node read from SysFS had negative value (-1), but there must be at least one NUMA node, so returning NUMA node zero\n",
      "2022-01-10 06:48:18.583410: I tensorflow/stream_executor/cuda/cuda_gpu_executor.cc:939] successful NUMA node read from SysFS had negative value (-1), but there must be at least one NUMA node, so returning NUMA node zero\n",
      "2022-01-10 06:48:18.583667: I tensorflow/stream_executor/cuda/cuda_gpu_executor.cc:939] successful NUMA node read from SysFS had negative value (-1), but there must be at least one NUMA node, so returning NUMA node zero\n",
      "2022-01-10 06:48:18.584449: I tensorflow/core/platform/cpu_feature_guard.cc:151] This TensorFlow binary is optimized with oneAPI Deep Neural Network Library (oneDNN) to use the following CPU instructions in performance-critical operations:  AVX2 FMA\n",
      "To enable them in other operations, rebuild TensorFlow with the appropriate compiler flags.\n",
      "2022-01-10 06:48:18.891937: I tensorflow/stream_executor/cuda/cuda_gpu_executor.cc:939] successful NUMA node read from SysFS had negative value (-1), but there must be at least one NUMA node, so returning NUMA node zero\n",
      "2022-01-10 06:48:18.892206: I tensorflow/stream_executor/cuda/cuda_gpu_executor.cc:939] successful NUMA node read from SysFS had negative value (-1), but there must be at least one NUMA node, so returning NUMA node zero\n",
      "2022-01-10 06:48:18.892445: I tensorflow/stream_executor/cuda/cuda_gpu_executor.cc:939] successful NUMA node read from SysFS had negative value (-1), but there must be at least one NUMA node, so returning NUMA node zero\n",
      "2022-01-10 06:48:18.892664: I tensorflow/stream_executor/cuda/cuda_gpu_executor.cc:939] successful NUMA node read from SysFS had negative value (-1), but there must be at least one NUMA node, so returning NUMA node zero\n",
      "2022-01-10 06:48:18.892884: I tensorflow/stream_executor/cuda/cuda_gpu_executor.cc:939] successful NUMA node read from SysFS had negative value (-1), but there must be at least one NUMA node, so returning NUMA node zero\n",
      "2022-01-10 06:48:18.893101: I tensorflow/stream_executor/cuda/cuda_gpu_executor.cc:939] successful NUMA node read from SysFS had negative value (-1), but there must be at least one NUMA node, so returning NUMA node zero\n",
      "2022-01-10 06:48:19.449550: I tensorflow/stream_executor/cuda/cuda_gpu_executor.cc:939] successful NUMA node read from SysFS had negative value (-1), but there must be at least one NUMA node, so returning NUMA node zero\n",
      "2022-01-10 06:48:19.449858: I tensorflow/stream_executor/cuda/cuda_gpu_executor.cc:939] successful NUMA node read from SysFS had negative value (-1), but there must be at least one NUMA node, so returning NUMA node zero\n",
      "2022-01-10 06:48:19.450086: I tensorflow/stream_executor/cuda/cuda_gpu_executor.cc:939] successful NUMA node read from SysFS had negative value (-1), but there must be at least one NUMA node, so returning NUMA node zero\n",
      "2022-01-10 06:48:19.450310: I tensorflow/stream_executor/cuda/cuda_gpu_executor.cc:939] successful NUMA node read from SysFS had negative value (-1), but there must be at least one NUMA node, so returning NUMA node zero\n",
      "2022-01-10 06:48:19.450530: I tensorflow/stream_executor/cuda/cuda_gpu_executor.cc:939] successful NUMA node read from SysFS had negative value (-1), but there must be at least one NUMA node, so returning NUMA node zero\n",
      "2022-01-10 06:48:19.450750: I tensorflow/core/common_runtime/gpu/gpu_device.cc:1525] Created device /job:localhost/replica:0/task:0/device:GPU:0 with 6106 MB memory:  -> device: 0, name: NVIDIA GeForce RTX 3070, pci bus id: 0000:09:00.0, compute capability: 8.6\n",
      "2022-01-10 06:48:19.451594: I tensorflow/stream_executor/cuda/cuda_gpu_executor.cc:939] successful NUMA node read from SysFS had negative value (-1), but there must be at least one NUMA node, so returning NUMA node zero\n",
      "2022-01-10 06:48:19.451794: I tensorflow/core/common_runtime/gpu/gpu_device.cc:1525] Created device /job:localhost/replica:0/task:0/device:GPU:1 with 6118 MB memory:  -> device: 1, name: NVIDIA GeForce RTX 3070, pci bus id: 0000:0a:00.0, compute capability: 8.6\n"
     ]
    }
   ],
   "source": [
    "#initial sequential model\n",
    "model = Sequential()\n",
    "\n",
    "model.add(Dense(512, input_dim=300, activation='relu'))\n",
    "model.add(Dropout(0.5))\n",
    "model.add(BatchNormalization())\n",
    "\n",
    "model.add(Dense(128, activation='relu'))\n",
    "model.add(Dropout(0.2))\n",
    "model.add(BatchNormalization())\n",
    "\n",
    "model.add(Dense(128, activation='relu'))\n",
    "model.add(Dropout(0.5))\n",
    "model.add(BatchNormalization())\n",
    "\n",
    "model.add(Dense(64, activation='relu'))\n",
    "model.add(Dropout(0.2))\n",
    "model.add(Dense(2))\n",
    "model.add(Activation('sigmoid'))\n",
    "\n",
    "# compile the model\n",
    "earlystop = EarlyStopping(monitor='val_loss', min_delta=0, patience=5, verbose=0, mode='auto')\n",
    "model.compile(loss='binary_crossentropy', optimizer=tf.keras.optimizers.RMSprop(),metrics=['accuracy'],)\n",
    "model.summary()"
   ]
  },
  {
   "cell_type": "code",
   "execution_count": 15,
   "id": "15caffb8",
   "metadata": {
    "execution": {
     "iopub.execute_input": "2022-01-10T01:18:19.568208Z",
     "iopub.status.busy": "2022-01-10T01:18:19.567737Z",
     "iopub.status.idle": "2022-01-10T01:20:16.289283Z",
     "shell.execute_reply": "2022-01-10T01:20:16.289748Z"
    }
   },
   "outputs": [
    {
     "name": "stdout",
     "output_type": "stream",
     "text": [
      "Epoch 1/50\n",
      "  34/1086 [..............................] - ETA: 5s - loss: 0.5948 - accuracy: 0.7169"
     ]
    },
    {
     "name": "stderr",
     "output_type": "stream",
     "text": [
      "2022-01-10 06:48:21.150337: I tensorflow/stream_executor/cuda/cuda_blas.cc:1774] TensorFloat-32 will be used for the matrix multiplication. This will only be logged once.\n"
     ]
    },
    {
     "name": "stdout",
     "output_type": "stream",
     "text": [
      "1086/1086 [==============================] - 7s 5ms/step - loss: 0.3662 - accuracy: 0.8454 - val_loss: 0.3309 - val_accuracy: 0.8573\n",
      "Epoch 2/50\n",
      "1086/1086 [==============================] - 6s 5ms/step - loss: 0.3298 - accuracy: 0.8625 - val_loss: 0.3056 - val_accuracy: 0.8712\n",
      "Epoch 3/50\n",
      "1086/1086 [==============================] - 6s 5ms/step - loss: 0.3201 - accuracy: 0.8659 - val_loss: 0.3039 - val_accuracy: 0.8712\n",
      "Epoch 4/50\n",
      "1086/1086 [==============================] - 6s 5ms/step - loss: 0.3135 - accuracy: 0.8693 - val_loss: 0.3094 - val_accuracy: 0.8697\n",
      "Epoch 5/50\n",
      "1086/1086 [==============================] - 6s 5ms/step - loss: 0.3122 - accuracy: 0.8703 - val_loss: 0.3012 - val_accuracy: 0.8753\n",
      "Epoch 6/50\n",
      "1086/1086 [==============================] - 6s 5ms/step - loss: 0.3076 - accuracy: 0.8731 - val_loss: 0.3008 - val_accuracy: 0.8737\n",
      "Epoch 7/50\n",
      "1086/1086 [==============================] - 6s 5ms/step - loss: 0.3029 - accuracy: 0.8749 - val_loss: 0.3010 - val_accuracy: 0.8741\n",
      "Epoch 8/50\n",
      "1086/1086 [==============================] - 6s 5ms/step - loss: 0.3007 - accuracy: 0.8764 - val_loss: 0.3032 - val_accuracy: 0.8742\n",
      "Epoch 9/50\n",
      "1086/1086 [==============================] - 6s 5ms/step - loss: 0.2967 - accuracy: 0.8782 - val_loss: 0.2983 - val_accuracy: 0.8759\n",
      "Epoch 10/50\n",
      "1086/1086 [==============================] - 6s 5ms/step - loss: 0.2943 - accuracy: 0.8793 - val_loss: 0.3010 - val_accuracy: 0.8757\n",
      "Epoch 11/50\n",
      "1086/1086 [==============================] - 6s 5ms/step - loss: 0.2934 - accuracy: 0.8800 - val_loss: 0.2982 - val_accuracy: 0.8767\n",
      "Epoch 12/50\n",
      "1086/1086 [==============================] - 6s 5ms/step - loss: 0.2872 - accuracy: 0.8823 - val_loss: 0.3015 - val_accuracy: 0.8773\n",
      "Epoch 13/50\n",
      "1086/1086 [==============================] - 6s 5ms/step - loss: 0.2887 - accuracy: 0.8834 - val_loss: 0.3018 - val_accuracy: 0.8767\n",
      "Epoch 14/50\n",
      "1086/1086 [==============================] - 6s 5ms/step - loss: 0.2851 - accuracy: 0.8850 - val_loss: 0.2987 - val_accuracy: 0.8770\n",
      "Epoch 15/50\n",
      "1086/1086 [==============================] - 6s 5ms/step - loss: 0.2849 - accuracy: 0.8852 - val_loss: 0.2966 - val_accuracy: 0.8768\n",
      "Epoch 16/50\n",
      "1086/1086 [==============================] - 6s 5ms/step - loss: 0.2813 - accuracy: 0.8879 - val_loss: 0.2988 - val_accuracy: 0.8762\n",
      "Epoch 17/50\n",
      "1086/1086 [==============================] - 6s 5ms/step - loss: 0.2806 - accuracy: 0.8874 - val_loss: 0.2971 - val_accuracy: 0.8771\n",
      "Epoch 18/50\n",
      "1086/1086 [==============================] - 6s 5ms/step - loss: 0.2775 - accuracy: 0.8892 - val_loss: 0.3049 - val_accuracy: 0.8759\n",
      "Epoch 19/50\n",
      "1086/1086 [==============================] - 6s 5ms/step - loss: 0.2769 - accuracy: 0.8896 - val_loss: 0.3031 - val_accuracy: 0.8761\n",
      "Epoch 20/50\n",
      "1086/1086 [==============================] - 6s 5ms/step - loss: 0.2758 - accuracy: 0.8903 - val_loss: 0.3033 - val_accuracy: 0.8754\n"
     ]
    }
   ],
   "source": [
    "history= model.fit(xtrain_glove_scl, y=ytrain_enc, batch_size=64, \n",
    "          epochs=50, verbose=1,\n",
    "          validation_data=(xvalid_glove_scl, yvalid_enc), callbacks=[earlystop])"
   ]
  },
  {
   "cell_type": "code",
   "execution_count": 16,
   "id": "6b2f4274",
   "metadata": {
    "execution": {
     "iopub.execute_input": "2022-01-10T01:20:16.294338Z",
     "iopub.status.busy": "2022-01-10T01:20:16.293970Z",
     "iopub.status.idle": "2022-01-10T01:20:16.370267Z",
     "shell.execute_reply": "2022-01-10T01:20:16.369827Z"
    }
   },
   "outputs": [
    {
     "data": {
      "image/png": "[encoded data removed]",
      "text/plain": [
       "<Figure size 432x288 with 1 Axes>"
      ]
     },
     "metadata": {
      "needs_background": "light"
     },
     "output_type": "display_data"
    }
   ],
   "source": [
    "#loss plot\n",
    "plt.plot(history.history['loss'])\n",
    "plt.plot(history.history['val_loss'])\n",
    "plt.title('model loss')\n",
    "plt.ylabel('loss')\n",
    "plt.xlabel('epoch')\n",
    "plt.legend(['train', 'val'], loc='upper left')\n",
    "plt.show()"
   ]
  },
  {
   "cell_type": "code",
   "execution_count": 17,
   "id": "1413e4a4",
   "metadata": {
    "execution": {
     "iopub.execute_input": "2022-01-10T01:20:16.380686Z",
     "iopub.status.busy": "2022-01-10T01:20:16.371817Z",
     "iopub.status.idle": "2022-01-10T01:20:16.443364Z",
     "shell.execute_reply": "2022-01-10T01:20:16.442980Z"
    }
   },
   "outputs": [
    {
     "data": {
      "image/png": "[encoded data removed]",
      "text/plain": [
       "<Figure size 432x288 with 1 Axes>"
      ]
     },
     "metadata": {
      "needs_background": "light"
     },
     "output_type": "display_data"
    }
   ],
   "source": [
    "#accuracy plot\n",
    "plt.plot(history.history['accuracy'])\n",
    "plt.plot(history.history['val_accuracy'])\n",
    "plt.title('model accuracy')\n",
    "plt.ylabel('accuracy')\n",
    "plt.xlabel('epoch')\n",
    "plt.legend(['train', 'val'], loc='upper left')\n",
    "plt.show()"
   ]
  },
  {
   "cell_type": "code",
   "execution_count": 18,
   "id": "31851c38",
   "metadata": {
    "execution": {
     "iopub.execute_input": "2022-01-10T01:20:16.447455Z",
     "iopub.status.busy": "2022-01-10T01:20:16.445360Z",
     "iopub.status.idle": "2022-01-10T01:20:16.468896Z",
     "shell.execute_reply": "2022-01-10T01:20:16.468491Z"
    }
   },
   "outputs": [],
   "source": [
    "model.save('glove_seq.h5')"
   ]
  },
  {
   "cell_type": "code",
   "execution_count": 19,
   "id": "1ee1b82b",
   "metadata": {
    "execution": {
     "iopub.execute_input": "2022-01-10T01:20:16.471639Z",
     "iopub.status.busy": "2022-01-10T01:20:16.471173Z",
     "iopub.status.idle": "2022-01-10T01:20:17.506897Z",
     "shell.execute_reply": "2022-01-10T01:20:17.506401Z"
    }
   },
   "outputs": [
    {
     "name": "stdout",
     "output_type": "stream",
     "text": [
      "              precision    recall  f1-score   support\n",
      "\n",
      "           0       0.71      0.86      0.77      7442\n",
      "           1       0.95      0.88      0.91     22322\n",
      "\n",
      "    accuracy                           0.88     29764\n",
      "   macro avg       0.83      0.87      0.84     29764\n",
      "weighted avg       0.89      0.88      0.88     29764\n",
      "\n"
     ]
    }
   ],
   "source": [
    "print(classification_report(np.argmax(model.predict(xvalid_glove_scl),axis=1),y_valid))"
   ]
  },
  {
   "cell_type": "code",
   "execution_count": 20,
   "id": "c0926157",
   "metadata": {
    "execution": {
     "iopub.execute_input": "2022-01-10T01:20:17.510102Z",
     "iopub.status.busy": "2022-01-10T01:20:17.509622Z",
     "iopub.status.idle": "2022-01-10T01:20:18.518093Z",
     "shell.execute_reply": "2022-01-10T01:20:18.518313Z"
    }
   },
   "outputs": [
    {
     "data": {
      "text/plain": [
       "<AxesSubplot:>"
      ]
     },
     "execution_count": 20,
     "metadata": {},
     "output_type": "execute_result"
    },
    {
     "data": {
      "image/png": "[encoded data removed]",
      "text/plain": [
       "<Figure size 432x288 with 2 Axes>"
      ]
     },
     "metadata": {
      "needs_background": "light"
     },
     "output_type": "display_data"
    }
   ],
   "source": [
    "cm = confusion_matrix(y_valid , np.argmax(model.predict(xvalid_glove_scl),axis=1))\n",
    "sns.heatmap(cm, annot=True,fmt='', cmap='Blues')"
   ]
  },
  {
   "cell_type": "code",
   "execution_count": 21,
   "id": "3d8bfef1",
   "metadata": {
    "execution": {
     "iopub.execute_input": "2022-01-10T01:20:18.569492Z",
     "iopub.status.busy": "2022-01-10T01:20:18.539035Z",
     "iopub.status.idle": "2022-01-10T01:20:24.368311Z",
     "shell.execute_reply": "2022-01-10T01:20:24.367853Z"
    }
   },
   "outputs": [],
   "source": [
    "# using keras tokenizer here\n",
    "token = text.Tokenizer(oov_token=True, num_words=None)\n",
    "max_len = 100\n",
    "\n",
    "token.fit_on_texts(list(x_train.clean_text))\n",
    "xtrain_seq = token.texts_to_sequences(x_train.clean_text)\n",
    "xvalid_seq = token.texts_to_sequences(x_valid.clean_text)\n",
    "\n",
    "# zero pad the sequences\n",
    "xtrain_pad = sequence.pad_sequences(xtrain_seq, maxlen=max_len)\n",
    "xvalid_pad = sequence.pad_sequences(xvalid_seq, maxlen=max_len)\n",
    "\n",
    "word_index = token.word_index"
   ]
  },
  {
   "cell_type": "code",
   "execution_count": 22,
   "id": "d41da0a4",
   "metadata": {
    "execution": {
     "iopub.execute_input": "2022-01-10T01:20:24.371678Z",
     "iopub.status.busy": "2022-01-10T01:20:24.371203Z",
     "iopub.status.idle": "2022-01-10T01:20:24.518409Z",
     "shell.execute_reply": "2022-01-10T01:20:24.518802Z"
    }
   },
   "outputs": [
    {
     "name": "stderr",
     "output_type": "stream",
     "text": [
      "100%|███████████████████████████████| 103957/103957 [00:00<00:00, 721335.75it/s]\n"
     ]
    }
   ],
   "source": [
    "# create an embedding matrix for the words we have in the dataset\n",
    "embedding_matrix = np.zeros((len(word_index) + 1, 300))\n",
    "for word, i in tqdm(word_index.items()):\n",
    "    embedding_vector = embeddings_index.get(word)\n",
    "    if embedding_vector is not None:\n",
    "        embedding_matrix[i] = embedding_vector"
   ]
  },
  {
   "cell_type": "code",
   "execution_count": 23,
   "id": "642ef51e",
   "metadata": {
    "execution": {
     "iopub.execute_input": "2022-01-10T01:20:24.524616Z",
     "iopub.status.busy": "2022-01-10T01:20:24.524117Z",
     "iopub.status.idle": "2022-01-10T01:20:24.716435Z",
     "shell.execute_reply": "2022-01-10T01:20:24.716858Z"
    }
   },
   "outputs": [
    {
     "name": "stdout",
     "output_type": "stream",
     "text": [
      "Model: \"sequential_1\"\n",
      "_________________________________________________________________\n",
      " Layer (type)                Output Shape              Param #   \n",
      "=================================================================\n",
      " embedding (Embedding)       (None, 100, 300)          31187400  \n",
      "                                                                 \n",
      " spatial_dropout1d (SpatialD  (None, 100, 300)         0         \n",
      " ropout1D)                                                       \n",
      "                                                                 \n",
      " lstm (LSTM)                 (None, 128)               219648    \n",
      "                                                                 \n",
      " dense_5 (Dense)             (None, 1024)              132096    \n",
      "                                                                 \n",
      " dropout_4 (Dropout)         (None, 1024)              0         \n",
      "                                                                 \n",
      " dense_6 (Dense)             (None, 128)               131200    \n",
      "                                                                 \n",
      " dropout_5 (Dropout)         (None, 128)               0         \n",
      "                                                                 \n",
      " dense_7 (Dense)             (None, 32)                4128      \n",
      "                                                                 \n",
      " dense_8 (Dense)             (None, 2)                 66        \n",
      "                                                                 \n",
      " activation_1 (Activation)   (None, 2)                 0         \n",
      "                                                                 \n",
      "=================================================================\n",
      "Total params: 31,674,538\n",
      "Trainable params: 487,138\n",
      "Non-trainable params: 31,187,400\n",
      "_________________________________________________________________\n"
     ]
    }
   ],
   "source": [
    "import keras\n",
    "model = Sequential()\n",
    "model.add(Embedding(len(word_index) + 1,\n",
    "                     300,\n",
    "                     weights=[embedding_matrix],\n",
    "                     input_length=max_len,\n",
    "                     trainable=False))\n",
    "model.add(SpatialDropout1D(0.3))\n",
    "model.add(LSTM(128, dropout=0.2, recurrent_dropout=0.2))\n",
    "#model.add(LSTM(1028, dropout=0.2, recurrent_dropout=0.2))\n",
    "\n",
    "\n",
    "model.add(Dense(1024, activation='relu'))\n",
    "model.add(Dropout(0.5))\n",
    "\n",
    "model.add(Dense(128, activation='relu'))\n",
    "model.add(Dropout(0.3))\n",
    "model.add(Dense(32, activation='relu'))\n",
    "\n",
    "model.add(Dense(2))\n",
    "model.add(Activation('sigmoid'))\n",
    "# compile the model\n",
    "earlystop = EarlyStopping(monitor='val_loss', min_delta=0, patience=5, verbose=0, mode='auto')\n",
    "model.compile(loss='binary_crossentropy', optimizer=tf.keras.optimizers.RMSprop(),metrics=['accuracy'])\n",
    "model.summary()"
   ]
  },
  {
   "cell_type": "code",
   "execution_count": 24,
   "id": "9914afea",
   "metadata": {
    "execution": {
     "iopub.execute_input": "2022-01-10T01:20:24.728845Z",
     "iopub.status.busy": "2022-01-10T01:20:24.728350Z",
     "iopub.status.idle": "2022-01-10T02:30:00.267723Z",
     "shell.execute_reply": "2022-01-10T02:30:00.267300Z"
    }
   },
   "outputs": [
    {
     "name": "stdout",
     "output_type": "stream",
     "text": [
      "Epoch 1/20\n",
      "1086/1086 [==============================] - 300s 274ms/step - loss: 0.4047 - accuracy: 0.8230 - val_loss: 0.3020 - val_accuracy: 0.8695\n",
      "Epoch 2/20\n",
      "1086/1086 [==============================] - 298s 274ms/step - loss: 0.3123 - accuracy: 0.8694 - val_loss: 0.2978 - val_accuracy: 0.8773\n",
      "Epoch 3/20\n",
      "1086/1086 [==============================] - 298s 274ms/step - loss: 0.2934 - accuracy: 0.8785 - val_loss: 0.2765 - val_accuracy: 0.8872\n",
      "Epoch 4/20\n",
      "1086/1086 [==============================] - 298s 275ms/step - loss: 0.2794 - accuracy: 0.8857 - val_loss: 0.2856 - val_accuracy: 0.8829\n",
      "Epoch 5/20\n",
      "1086/1086 [==============================] - 298s 275ms/step - loss: 0.2690 - accuracy: 0.8904 - val_loss: 0.2846 - val_accuracy: 0.8933\n",
      "Epoch 6/20\n",
      "1086/1086 [==============================] - 298s 274ms/step - loss: 0.2619 - accuracy: 0.8938 - val_loss: 0.2657 - val_accuracy: 0.8962\n",
      "Epoch 7/20\n",
      "1086/1086 [==============================] - 299s 275ms/step - loss: 0.2532 - accuracy: 0.8982 - val_loss: 0.2642 - val_accuracy: 0.8969\n",
      "Epoch 8/20\n",
      "1086/1086 [==============================] - 298s 274ms/step - loss: 0.2478 - accuracy: 0.9019 - val_loss: 0.3234 - val_accuracy: 0.8895\n",
      "Epoch 9/20\n",
      "1086/1086 [==============================] - 298s 275ms/step - loss: 0.2422 - accuracy: 0.9037 - val_loss: 0.2591 - val_accuracy: 0.8972\n",
      "Epoch 10/20\n",
      "1086/1086 [==============================] - 299s 275ms/step - loss: 0.2370 - accuracy: 0.9055 - val_loss: 0.3257 - val_accuracy: 0.8995\n",
      "Epoch 11/20\n",
      "1086/1086 [==============================] - 298s 274ms/step - loss: 0.2332 - accuracy: 0.9082 - val_loss: 0.4217 - val_accuracy: 0.8582\n",
      "Epoch 12/20\n",
      "1086/1086 [==============================] - 298s 275ms/step - loss: 0.2313 - accuracy: 0.9096 - val_loss: 0.2810 - val_accuracy: 0.8990\n",
      "Epoch 13/20\n",
      "1086/1086 [==============================] - 298s 275ms/step - loss: 0.2264 - accuracy: 0.9114 - val_loss: 0.2662 - val_accuracy: 0.8969\n",
      "Epoch 14/20\n",
      "1086/1086 [==============================] - 298s 275ms/step - loss: 0.2230 - accuracy: 0.9118 - val_loss: 0.2832 - val_accuracy: 0.8986\n"
     ]
    }
   ],
   "source": [
    "history_lstm = model.fit(xtrain_pad, y=ytrain_enc, batch_size=64, epochs=20, verbose=1, \n",
    "                         validation_data=(xvalid_pad, yvalid_enc),\n",
    "                        callbacks=[earlystop])"
   ]
  },
  {
   "cell_type": "code",
   "execution_count": 25,
   "id": "ccda7450",
   "metadata": {
    "execution": {
     "iopub.execute_input": "2022-01-10T02:30:00.279556Z",
     "iopub.status.busy": "2022-01-10T02:30:00.278181Z",
     "iopub.status.idle": "2022-01-10T02:30:00.756508Z",
     "shell.execute_reply": "2022-01-10T02:30:00.756035Z"
    }
   },
   "outputs": [],
   "source": [
    "model.save('glove_lstm.h5')"
   ]
  },
  {
   "cell_type": "code",
   "execution_count": 26,
   "id": "545d3ccf",
   "metadata": {
    "execution": {
     "iopub.execute_input": "2022-01-10T02:30:00.760625Z",
     "iopub.status.busy": "2022-01-10T02:30:00.760130Z",
     "iopub.status.idle": "2022-01-10T02:30:24.396360Z",
     "shell.execute_reply": "2022-01-10T02:30:24.395894Z"
    }
   },
   "outputs": [
    {
     "name": "stdout",
     "output_type": "stream",
     "text": [
      "              precision    recall  f1-score   support\n",
      "\n",
      "           0       0.78      0.87      0.82      8039\n",
      "           1       0.95      0.91      0.93     21725\n",
      "\n",
      "    accuracy                           0.90     29764\n",
      "   macro avg       0.86      0.89      0.88     29764\n",
      "weighted avg       0.90      0.90      0.90     29764\n",
      "\n"
     ]
    }
   ],
   "source": [
    "print(classification_report(np.argmax(model.predict(xvalid_pad),axis=1),y_valid))"
   ]
  },
  {
   "cell_type": "code",
   "execution_count": 27,
   "id": "eec9b8c0",
   "metadata": {
    "execution": {
     "iopub.execute_input": "2022-01-10T02:30:24.416865Z",
     "iopub.status.busy": "2022-01-10T02:30:24.413901Z",
     "iopub.status.idle": "2022-01-10T02:30:24.474605Z",
     "shell.execute_reply": "2022-01-10T02:30:24.474238Z"
    }
   },
   "outputs": [
    {
     "data": {
      "image/png": "[encoded data removed]",
      "text/plain": [
       "<Figure size 432x288 with 1 Axes>"
      ]
     },
     "metadata": {
      "needs_background": "light"
     },
     "output_type": "display_data"
    }
   ],
   "source": [
    "#loss plot\n",
    "plt.plot(history_lstm.history['loss'])\n",
    "plt.plot(history_lstm.history['val_loss'])\n",
    "plt.title('model loss')\n",
    "plt.ylabel('loss')\n",
    "plt.xlabel('epoch')\n",
    "plt.legend(['train', 'val'], loc='upper left')\n",
    "plt.show()"
   ]
  },
  {
   "cell_type": "code",
   "execution_count": 28,
   "id": "219bcd96",
   "metadata": {
    "execution": {
     "iopub.execute_input": "2022-01-10T02:30:24.713360Z",
     "iopub.status.busy": "2022-01-10T02:30:24.712944Z",
     "iopub.status.idle": "2022-01-10T02:30:24.784023Z",
     "shell.execute_reply": "2022-01-10T02:30:24.784437Z"
    }
   },
   "outputs": [
    {
     "data": {
      "image/png": "[encoded data removed]",
      "text/plain": [
       "<Figure size 432x288 with 1 Axes>"
      ]
     },
     "metadata": {
      "needs_background": "light"
     },
     "output_type": "display_data"
    }
   ],
   "source": [
    "#accuracy plot\n",
    "plt.plot(history_lstm.history['accuracy'])\n",
    "plt.plot(history_lstm.history['val_accuracy'])\n",
    "plt.title('model accuracy')\n",
    "plt.ylabel('accuracy')\n",
    "plt.xlabel('epoch')\n",
    "plt.legend(['train', 'val'], loc='upper left')\n",
    "plt.show()"
   ]
  },
  {
   "cell_type": "code",
   "execution_count": 29,
   "id": "9f3b6ff2",
   "metadata": {
    "execution": {
     "iopub.execute_input": "2022-01-10T02:30:24.787864Z",
     "iopub.status.busy": "2022-01-10T02:30:24.787266Z",
     "iopub.status.idle": "2022-01-10T02:30:48.868805Z",
     "shell.execute_reply": "2022-01-10T02:30:48.868301Z"
    }
   },
   "outputs": [
    {
     "data": {
      "text/plain": [
       "<AxesSubplot:>"
      ]
     },
     "execution_count": 29,
     "metadata": {},
     "output_type": "execute_result"
    },
    {
     "data": {
      "image/png": "[encoded data removed]",
      "text/plain": [
       "<Figure size 432x288 with 2 Axes>"
      ]
     },
     "metadata": {
      "needs_background": "light"
     },
     "output_type": "display_data"
    }
   ],
   "source": [
    "cm = confusion_matrix(y_valid , np.argmax(model.predict(xvalid_pad),axis=1))\n",
    "sns.heatmap(cm, annot=True,fmt='', cmap='Blues')"
   ]
  },
  {
   "cell_type": "code",
   "execution_count": null,
   "id": "987749e7",
   "metadata": {},
   "outputs": [],
   "source": []
  }
 ],
 "metadata": {
  "kernelspec": {
   "display_name": "Python 3 (ipykernel)",
   "language": "python",
   "name": "python3"
  },
  "language_info": {
   "codemirror_mode": {
    "name": "ipython",
    "version": 3
   },
   "file_extension": ".py",
   "mimetype": "text/x-python",
   "name": "python",
   "nbconvert_exporter": "python",
   "pygments_lexer": "ipython3",
   "version": "3.8.12"
  }
 },
 "nbformat": 4,
 "nbformat_minor": 5
}
