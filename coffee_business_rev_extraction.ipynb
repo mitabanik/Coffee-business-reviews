{
 "cells": [
  {
   "cell_type": "code",
   "execution_count": 1,
   "id": "b5fd05a6",
   "metadata": {},
   "outputs": [],
   "source": [
    "import pandas as pd\n",
    "import string\n",
    "from sklearn.feature_extraction.text import TfidfVectorizer , CountVectorizer\n",
    "import matplotlib.pyplot as plt\n",
    "import matplotlib.image as mpimg\n",
    "from shapely.geometry import Point\n",
    "import geopandas \n",
    "from geopandas import GeoDataFrame"
   ]
  },
  {
   "cell_type": "code",
   "execution_count": 2,
   "id": "dda7aa78",
   "metadata": {
    "scrolled": true
   },
   "outputs": [],
   "source": [
    "business = pd.read_json(\"yelp_academic_dataset_business.json\", lines=True)"
   ]
  },
  {
   "cell_type": "code",
   "execution_count": 3,
   "id": "076d3c4f",
   "metadata": {},
   "outputs": [
    {
     "data": {
      "text/html": [
       "<div>\n",
       "<style scoped>\n",
       "    .dataframe tbody tr th:only-of-type {\n",
       "        vertical-align: middle;\n",
       "    }\n",
       "\n",
       "    .dataframe tbody tr th {\n",
       "        vertical-align: top;\n",
       "    }\n",
       "\n",
       "    .dataframe thead th {\n",
       "        text-align: right;\n",
       "    }\n",
       "</style>\n",
       "<table border=\"1\" class=\"dataframe\">\n",
       "  <thead>\n",
       "    <tr style=\"text-align: right;\">\n",
       "      <th></th>\n",
       "      <th>business_id</th>\n",
       "      <th>name</th>\n",
       "      <th>address</th>\n",
       "      <th>city</th>\n",
       "      <th>state</th>\n",
       "      <th>postal_code</th>\n",
       "      <th>latitude</th>\n",
       "      <th>longitude</th>\n",
       "      <th>stars</th>\n",
       "      <th>review_count</th>\n",
       "      <th>is_open</th>\n",
       "      <th>attributes</th>\n",
       "      <th>categories</th>\n",
       "      <th>hours</th>\n",
       "    </tr>\n",
       "  </thead>\n",
       "  <tbody>\n",
       "    <tr>\n",
       "      <th>819</th>\n",
       "      <td>uAoUAlnbJw_P9x2RXpbLuw</td>\n",
       "      <td>Big Kahuna</td>\n",
       "      <td>5207 Brodie Ln, Ste 115</td>\n",
       "      <td>Sunset Valley</td>\n",
       "      <td>TX</td>\n",
       "      <td>78745</td>\n",
       "      <td>30.230981</td>\n",
       "      <td>-97.817636</td>\n",
       "      <td>4.5</td>\n",
       "      <td>77</td>\n",
       "      <td>0</td>\n",
       "      <td>{'RestaurantsPriceRange2': '2', 'RestaurantsAt...</td>\n",
       "      <td>Poke, Food, Restaurants, Hawaiian, Burgers, As...</td>\n",
       "      <td>{'Monday': '11:0-21:0', 'Tuesday': '11:0-21:0'...</td>\n",
       "    </tr>\n",
       "  </tbody>\n",
       "</table>\n",
       "</div>"
      ],
      "text/plain": [
       "                business_id        name                  address  \\\n",
       "819  uAoUAlnbJw_P9x2RXpbLuw  Big Kahuna  5207 Brodie Ln, Ste 115   \n",
       "\n",
       "              city state postal_code   latitude  longitude  stars  \\\n",
       "819  Sunset Valley    TX       78745  30.230981 -97.817636    4.5   \n",
       "\n",
       "     review_count  is_open                                         attributes  \\\n",
       "819            77        0  {'RestaurantsPriceRange2': '2', 'RestaurantsAt...   \n",
       "\n",
       "                                            categories  \\\n",
       "819  Poke, Food, Restaurants, Hawaiian, Burgers, As...   \n",
       "\n",
       "                                                 hours  \n",
       "819  {'Monday': '11:0-21:0', 'Tuesday': '11:0-21:0'...  "
      ]
     },
     "execution_count": 3,
     "metadata": {},
     "output_type": "execute_result"
    }
   ],
   "source": [
    "business.sample()"
   ]
  },
  {
   "cell_type": "code",
   "execution_count": 12,
   "id": "b79a2126",
   "metadata": {},
   "outputs": [
    {
     "name": "stdout",
     "output_type": "stream",
     "text": [
      "CPU times: user 1min 39s, sys: 41.1 s, total: 2min 20s\n",
      "Wall time: 2min 35s\n"
     ]
    }
   ],
   "source": [
    "%%time\n",
    "chunksize = 10 ** 5\n",
    "data = []\n",
    "for chunk in pd.read_json(\"yelp_academic_dataset_review.json\", lines=True, chunksize=chunksize):\n",
    "    data.append(chunk)"
   ]
  },
  {
   "cell_type": "code",
   "execution_count": 5,
   "id": "29ea2ce8",
   "metadata": {},
   "outputs": [],
   "source": [
    "#businesses with coffee in the 1st category\n",
    "coffee_bus = business[business['categories'].str.find('Coffee')==0].reset_index( drop = True)\n",
    "coffee_bus.to_csv('coffee_businesses.csv',index=False , encoding='utf-8')"
   ]
  },
  {
   "cell_type": "code",
   "execution_count": 6,
   "id": "474660dd",
   "metadata": {},
   "outputs": [
    {
     "name": "stdout",
     "output_type": "stream",
     "text": [
      "<class 'pandas.core.frame.DataFrame'>\n",
      "RangeIndex: 2061 entries, 0 to 2060\n",
      "Data columns (total 14 columns):\n",
      " #   Column        Non-Null Count  Dtype  \n",
      "---  ------        --------------  -----  \n",
      " 0   business_id   2061 non-null   object \n",
      " 1   name          2061 non-null   object \n",
      " 2   address       2061 non-null   object \n",
      " 3   city          2061 non-null   object \n",
      " 4   state         2061 non-null   object \n",
      " 5   postal_code   2061 non-null   object \n",
      " 6   latitude      2061 non-null   float64\n",
      " 7   longitude     2061 non-null   float64\n",
      " 8   stars         2061 non-null   float64\n",
      " 9   review_count  2061 non-null   int64  \n",
      " 10  is_open       2061 non-null   int64  \n",
      " 11  attributes    2044 non-null   object \n",
      " 12  categories    2061 non-null   object \n",
      " 13  hours         1794 non-null   object \n",
      "dtypes: float64(3), int64(2), object(9)\n",
      "memory usage: 225.5+ KB\n"
     ]
    }
   ],
   "source": [
    "coffee_bus.info()"
   ]
  },
  {
   "cell_type": "code",
   "execution_count": 7,
   "id": "4aeb50eb",
   "metadata": {},
   "outputs": [
    {
     "data": {
      "text/html": [
       "<div>\n",
       "<style scoped>\n",
       "    .dataframe tbody tr th:only-of-type {\n",
       "        vertical-align: middle;\n",
       "    }\n",
       "\n",
       "    .dataframe tbody tr th {\n",
       "        vertical-align: top;\n",
       "    }\n",
       "\n",
       "    .dataframe thead th {\n",
       "        text-align: right;\n",
       "    }\n",
       "</style>\n",
       "<table border=\"1\" class=\"dataframe\">\n",
       "  <thead>\n",
       "    <tr style=\"text-align: right;\">\n",
       "      <th></th>\n",
       "      <th>business_id</th>\n",
       "      <th>name</th>\n",
       "      <th>address</th>\n",
       "      <th>city</th>\n",
       "      <th>state</th>\n",
       "      <th>postal_code</th>\n",
       "      <th>latitude</th>\n",
       "      <th>longitude</th>\n",
       "      <th>stars</th>\n",
       "      <th>review_count</th>\n",
       "      <th>is_open</th>\n",
       "      <th>attributes</th>\n",
       "      <th>categories</th>\n",
       "      <th>hours</th>\n",
       "    </tr>\n",
       "  </thead>\n",
       "  <tbody>\n",
       "    <tr>\n",
       "      <th>719</th>\n",
       "      <td>YIz3SVgMJtyuG9eihTaHxg</td>\n",
       "      <td>Boston Barber &amp; Tattoo Co.</td>\n",
       "      <td>113 Salem St</td>\n",
       "      <td>Boston</td>\n",
       "      <td>MA</td>\n",
       "      <td>02113</td>\n",
       "      <td>42.364292</td>\n",
       "      <td>-71.055418</td>\n",
       "      <td>4.5</td>\n",
       "      <td>234</td>\n",
       "      <td>1</td>\n",
       "      <td>{'RestaurantsPriceRange2': '1', 'BikeParking':...</td>\n",
       "      <td>Coffeeshops, Tattoo, Tanning Beds, Barbers, Ta...</td>\n",
       "      <td>{'Monday': '0:0-0:0', 'Tuesday': '10:0-19:0', ...</td>\n",
       "    </tr>\n",
       "  </tbody>\n",
       "</table>\n",
       "</div>"
      ],
      "text/plain": [
       "                business_id                        name       address    city  \\\n",
       "719  YIz3SVgMJtyuG9eihTaHxg  Boston Barber & Tattoo Co.  113 Salem St  Boston   \n",
       "\n",
       "    state postal_code   latitude  longitude  stars  review_count  is_open  \\\n",
       "719    MA       02113  42.364292 -71.055418    4.5           234        1   \n",
       "\n",
       "                                            attributes  \\\n",
       "719  {'RestaurantsPriceRange2': '1', 'BikeParking':...   \n",
       "\n",
       "                                            categories  \\\n",
       "719  Coffeeshops, Tattoo, Tanning Beds, Barbers, Ta...   \n",
       "\n",
       "                                                 hours  \n",
       "719  {'Monday': '0:0-0:0', 'Tuesday': '10:0-19:0', ...  "
      ]
     },
     "execution_count": 7,
     "metadata": {},
     "output_type": "execute_result"
    }
   ],
   "source": [
    "coffee_bus.sample()"
   ]
  },
  {
   "cell_type": "code",
   "execution_count": 10,
   "id": "35491032",
   "metadata": {},
   "outputs": [
    {
     "data": {
      "image/png": "[encoded data removed]",
      "text/plain": [
       "<Figure size 1080x1080 with 1 Axes>"
      ]
     },
     "metadata": {
      "needs_background": "light"
     },
     "output_type": "display_data"
    }
   ],
   "source": [
    "#plotting location of coffee places\n",
    "gdf = geopandas.GeoDataFrame(\n",
    "    coffee_bus, geometry=geopandas.points_from_xy(coffee_bus.longitude, coffee_bus.latitude))\n",
    "\n",
    "world = geopandas.read_file(geopandas.datasets.get_path('naturalearth_lowres'))\n",
    "\n",
    "\n",
    "ax = world[world.continent == 'North America'].plot(\n",
    "    color='white', edgecolor='black')\n",
    "\n",
    "# We can now plot our ``GeoDataFrame``.\n",
    "gdf.plot(ax=ax, color='blue')\n",
    "plt.rcParams[\"figure.figsize\"] = (15,15)\n",
    "plt.show()"
   ]
  },
  {
   "cell_type": "code",
   "execution_count": 13,
   "id": "1894237f",
   "metadata": {},
   "outputs": [],
   "source": [
    "#extracting reviews for coffee shops from all yelp reviews\n",
    "coffee_rev=pd.DataFrame()\n",
    "for chunk in data:\n",
    "    temp=pd.merge(chunk, coffee_bus, on = 'business_id')\n",
    "    coffee_rev=pd.concat([coffee_rev,temp])"
   ]
  },
  {
   "cell_type": "code",
   "execution_count": 10,
   "id": "5b114e06",
   "metadata": {},
   "outputs": [],
   "source": [
    "#saving the coffee reviews\n",
    "coffee_rev.to_csv('coffee_reviews.csv',index=False , encoding='utf-8')"
   ]
  },
  {
   "cell_type": "code",
   "execution_count": 11,
   "id": "866e326c",
   "metadata": {},
   "outputs": [
    {
     "name": "stdout",
     "output_type": "stream",
     "text": [
      "<class 'pandas.core.frame.DataFrame'>\n",
      "Int64Index: 124017 entries, 0 to 425\n",
      "Data columns (total 23 columns):\n",
      " #   Column        Non-Null Count   Dtype         \n",
      "---  ------        --------------   -----         \n",
      " 0   review_id     124017 non-null  object        \n",
      " 1   user_id       124017 non-null  object        \n",
      " 2   business_id   124017 non-null  object        \n",
      " 3   stars_x       124017 non-null  int64         \n",
      " 4   useful        124017 non-null  int64         \n",
      " 5   funny         124017 non-null  int64         \n",
      " 6   cool          124017 non-null  int64         \n",
      " 7   text          124017 non-null  object        \n",
      " 8   date          124017 non-null  datetime64[ns]\n",
      " 9   name          124017 non-null  object        \n",
      " 10  address       124017 non-null  object        \n",
      " 11  city          124017 non-null  object        \n",
      " 12  state         124017 non-null  object        \n",
      " 13  postal_code   124017 non-null  object        \n",
      " 14  latitude      124017 non-null  float64       \n",
      " 15  longitude     124017 non-null  float64       \n",
      " 16  stars_y       124017 non-null  float64       \n",
      " 17  review_count  124017 non-null  int64         \n",
      " 18  is_open       124017 non-null  int64         \n",
      " 19  attributes    123876 non-null  object        \n",
      " 20  categories    124017 non-null  object        \n",
      " 21  hours         118466 non-null  object        \n",
      " 22  geometry      124017 non-null  geometry      \n",
      "dtypes: datetime64[ns](1), float64(3), geometry(1), int64(6), object(12)\n",
      "memory usage: 22.7+ MB\n"
     ]
    }
   ],
   "source": [
    "coffee_rev.info()"
   ]
  },
  {
   "cell_type": "code",
   "execution_count": 16,
   "id": "b03ff4f6",
   "metadata": {},
   "outputs": [
    {
     "data": {
      "text/html": [
       "<div>\n",
       "<style scoped>\n",
       "    .dataframe tbody tr th:only-of-type {\n",
       "        vertical-align: middle;\n",
       "    }\n",
       "\n",
       "    .dataframe tbody tr th {\n",
       "        vertical-align: top;\n",
       "    }\n",
       "\n",
       "    .dataframe thead th {\n",
       "        text-align: right;\n",
       "    }\n",
       "</style>\n",
       "<table border=\"1\" class=\"dataframe\">\n",
       "  <thead>\n",
       "    <tr style=\"text-align: right;\">\n",
       "      <th></th>\n",
       "      <th>review_id</th>\n",
       "      <th>user_id</th>\n",
       "      <th>business_id</th>\n",
       "      <th>stars_x</th>\n",
       "      <th>useful</th>\n",
       "      <th>funny</th>\n",
       "      <th>cool</th>\n",
       "      <th>text</th>\n",
       "      <th>date</th>\n",
       "      <th>name</th>\n",
       "      <th>...</th>\n",
       "      <th>postal_code</th>\n",
       "      <th>latitude</th>\n",
       "      <th>longitude</th>\n",
       "      <th>stars_y</th>\n",
       "      <th>review_count</th>\n",
       "      <th>is_open</th>\n",
       "      <th>attributes</th>\n",
       "      <th>categories</th>\n",
       "      <th>hours</th>\n",
       "      <th>geometry</th>\n",
       "    </tr>\n",
       "  </thead>\n",
       "  <tbody>\n",
       "    <tr>\n",
       "      <th>1574</th>\n",
       "      <td>3FTUeDmq4WgXeS_fRrfo5w</td>\n",
       "      <td>KSQkrqatjPfbnPVq2VU24Q</td>\n",
       "      <td>xxD0f8KGp6fIIBzT_3Kcfg</td>\n",
       "      <td>5</td>\n",
       "      <td>1</td>\n",
       "      <td>0</td>\n",
       "      <td>0</td>\n",
       "      <td>Best coffee in the Portland area by far! Have ...</td>\n",
       "      <td>2018-05-02 03:35:09</td>\n",
       "      <td>Black Rock Coffee Bar</td>\n",
       "      <td>...</td>\n",
       "      <td>97224</td>\n",
       "      <td>45.409241</td>\n",
       "      <td>-122.793788</td>\n",
       "      <td>4.0</td>\n",
       "      <td>48</td>\n",
       "      <td>1</td>\n",
       "      <td>{'OutdoorSeating': 'False', 'BikeParking': 'Tr...</td>\n",
       "      <td>Coffee &amp; Tea, Food</td>\n",
       "      <td>{'Monday': '5:0-21:0', 'Tuesday': '5:0-21:0', ...</td>\n",
       "      <td>POINT (-122.79379 45.40924)</td>\n",
       "    </tr>\n",
       "  </tbody>\n",
       "</table>\n",
       "<p>1 rows × 23 columns</p>\n",
       "</div>"
      ],
      "text/plain": [
       "                   review_id                 user_id             business_id  \\\n",
       "1574  3FTUeDmq4WgXeS_fRrfo5w  KSQkrqatjPfbnPVq2VU24Q  xxD0f8KGp6fIIBzT_3Kcfg   \n",
       "\n",
       "      stars_x  useful  funny  cool  \\\n",
       "1574        5       1      0     0   \n",
       "\n",
       "                                                   text                date  \\\n",
       "1574  Best coffee in the Portland area by far! Have ... 2018-05-02 03:35:09   \n",
       "\n",
       "                       name  ... postal_code   latitude   longitude stars_y  \\\n",
       "1574  Black Rock Coffee Bar  ...       97224  45.409241 -122.793788     4.0   \n",
       "\n",
       "      review_count  is_open  \\\n",
       "1574            48        1   \n",
       "\n",
       "                                             attributes          categories  \\\n",
       "1574  {'OutdoorSeating': 'False', 'BikeParking': 'Tr...  Coffee & Tea, Food   \n",
       "\n",
       "                                                  hours  \\\n",
       "1574  {'Monday': '5:0-21:0', 'Tuesday': '5:0-21:0', ...   \n",
       "\n",
       "                         geometry  \n",
       "1574  POINT (-122.79379 45.40924)  \n",
       "\n",
       "[1 rows x 23 columns]"
      ]
     },
     "execution_count": 16,
     "metadata": {},
     "output_type": "execute_result"
    }
   ],
   "source": [
    "coffee_rev.sample()"
   ]
  },
  {
   "cell_type": "code",
   "execution_count": 42,
   "id": "cf6efc6c",
   "metadata": {},
   "outputs": [
    {
     "name": "stdout",
     "output_type": "stream",
     "text": [
      "1085    Much better than Starbucks. I enjoy the atmosphere. There wifi could be improved. It always goes slow and has issues which has kept me from coming in for work. I also like silver canyon brews better for take home coffee.\n",
      "Name: text, dtype: object\n"
     ]
    }
   ],
   "source": [
    "with pd.option_context('display.max_colwidth', 1000):\n",
    "    print(coffee_rev.sample().text)"
   ]
  },
  {
   "cell_type": "code",
   "execution_count": null,
   "id": "c0c44cb4",
   "metadata": {},
   "outputs": [],
   "source": []
  }
 ],
 "metadata": {
  "kernelspec": {
   "display_name": "Python 3 (ipykernel)",
   "language": "python",
   "name": "python3"
  },
  "language_info": {
   "codemirror_mode": {
    "name": "ipython",
    "version": 3
   },
   "file_extension": ".py",
   "mimetype": "text/x-python",
   "name": "python",
   "nbconvert_exporter": "python",
   "pygments_lexer": "ipython3",
   "version": "3.8.12"
  }
 },
 "nbformat": 4,
 "nbformat_minor": 5
}
