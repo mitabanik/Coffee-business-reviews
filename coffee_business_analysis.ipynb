{
 "cells": [
  {
   "cell_type": "code",
   "execution_count": 265,
   "id": "8d874454",
   "metadata": {},
   "outputs": [],
   "source": [
    "import pandas as pd\n",
    "import string\n",
    "from sklearn.feature_extraction.text import TfidfVectorizer , CountVectorizer\n",
    "import matplotlib.pyplot as plt\n",
    "import matplotlib.image as mpimg\n",
    "from shapely.geometry import Point\n",
    "import geopandas \n",
    "from geopandas import GeoDataFrame\n",
    "import ast"
   ]
  },
  {
   "cell_type": "code",
   "execution_count": 266,
   "id": "4a708e49",
   "metadata": {},
   "outputs": [],
   "source": [
    "coffee_buz =  pd.read_csv('coffee_businesses.csv')"
   ]
  },
  {
   "cell_type": "code",
   "execution_count": 267,
   "id": "2e9c723c",
   "metadata": {},
   "outputs": [
    {
     "name": "stdout",
     "output_type": "stream",
     "text": [
      "<class 'pandas.core.frame.DataFrame'>\n",
      "RangeIndex: 2061 entries, 0 to 2060\n",
      "Data columns (total 14 columns):\n",
      " #   Column        Non-Null Count  Dtype  \n",
      "---  ------        --------------  -----  \n",
      " 0   business_id   2061 non-null   object \n",
      " 1   name          2061 non-null   object \n",
      " 2   address       2054 non-null   object \n",
      " 3   city          2061 non-null   object \n",
      " 4   state         2061 non-null   object \n",
      " 5   postal_code   2061 non-null   object \n",
      " 6   latitude      2061 non-null   float64\n",
      " 7   longitude     2061 non-null   float64\n",
      " 8   stars         2061 non-null   float64\n",
      " 9   review_count  2061 non-null   int64  \n",
      " 10  is_open       2061 non-null   int64  \n",
      " 11  attributes    2044 non-null   object \n",
      " 12  categories    2061 non-null   object \n",
      " 13  hours         1794 non-null   object \n",
      "dtypes: float64(3), int64(2), object(9)\n",
      "memory usage: 225.5+ KB\n"
     ]
    }
   ],
   "source": [
    "coffee_buz.info()"
   ]
  },
  {
   "cell_type": "code",
   "execution_count": 268,
   "id": "765fbcbe",
   "metadata": {},
   "outputs": [
    {
     "data": {
      "text/html": [
       "<div>\n",
       "<style scoped>\n",
       "    .dataframe tbody tr th:only-of-type {\n",
       "        vertical-align: middle;\n",
       "    }\n",
       "\n",
       "    .dataframe tbody tr th {\n",
       "        vertical-align: top;\n",
       "    }\n",
       "\n",
       "    .dataframe thead th {\n",
       "        text-align: right;\n",
       "    }\n",
       "</style>\n",
       "<table border=\"1\" class=\"dataframe\">\n",
       "  <thead>\n",
       "    <tr style=\"text-align: right;\">\n",
       "      <th></th>\n",
       "      <th>business_id</th>\n",
       "      <th>name</th>\n",
       "      <th>address</th>\n",
       "      <th>city</th>\n",
       "      <th>state</th>\n",
       "      <th>postal_code</th>\n",
       "      <th>latitude</th>\n",
       "      <th>longitude</th>\n",
       "      <th>stars</th>\n",
       "      <th>review_count</th>\n",
       "      <th>is_open</th>\n",
       "      <th>attributes</th>\n",
       "      <th>categories</th>\n",
       "      <th>hours</th>\n",
       "    </tr>\n",
       "  </thead>\n",
       "  <tbody>\n",
       "    <tr>\n",
       "      <th>688</th>\n",
       "      <td>JIMGLsZofs94iwa0xx2ncQ</td>\n",
       "      <td>Starbucks</td>\n",
       "      <td>723 Broadway</td>\n",
       "      <td>Saugus</td>\n",
       "      <td>MA</td>\n",
       "      <td>01906</td>\n",
       "      <td>42.47831</td>\n",
       "      <td>-71.023195</td>\n",
       "      <td>2.5</td>\n",
       "      <td>39</td>\n",
       "      <td>0</td>\n",
       "      <td>{'RestaurantsPriceRange2': '2', 'BusinessParki...</td>\n",
       "      <td>Coffee &amp; Tea, Restaurants, Food</td>\n",
       "      <td>{'Monday': '4:30-21:30', 'Tuesday': '4:30-21:3...</td>\n",
       "    </tr>\n",
       "  </tbody>\n",
       "</table>\n",
       "</div>"
      ],
      "text/plain": [
       "                business_id       name       address    city state  \\\n",
       "688  JIMGLsZofs94iwa0xx2ncQ  Starbucks  723 Broadway  Saugus    MA   \n",
       "\n",
       "    postal_code  latitude  longitude  stars  review_count  is_open  \\\n",
       "688       01906  42.47831 -71.023195    2.5            39        0   \n",
       "\n",
       "                                            attributes  \\\n",
       "688  {'RestaurantsPriceRange2': '2', 'BusinessParki...   \n",
       "\n",
       "                          categories  \\\n",
       "688  Coffee & Tea, Restaurants, Food   \n",
       "\n",
       "                                                 hours  \n",
       "688  {'Monday': '4:30-21:30', 'Tuesday': '4:30-21:3...  "
      ]
     },
     "execution_count": 268,
     "metadata": {},
     "output_type": "execute_result"
    }
   ],
   "source": [
    "coffee_buz.sample()"
   ]
  },
  {
   "cell_type": "code",
   "execution_count": 269,
   "id": "2295c44e",
   "metadata": {},
   "outputs": [],
   "source": [
    "def split(s):\n",
    "    return s.split(\", \")\n",
    "\n",
    "#extracting categories\n",
    "def categories_type(l):\n",
    "    d = {}\n",
    "    l=l.dropna().copy()\n",
    "    l['categories'] = l['categories'].apply(split)\n",
    "    for row in l.index:\n",
    "        stars = l.loc[row, ]['stars']\n",
    "        for c in l.loc[row, ]['categories']:\n",
    "            \n",
    "            if c not in d.keys():\n",
    "                d[c] = [stars]\n",
    "            else:\n",
    "                d[c].append(stars)\n",
    "    \n",
    "    rest_categories = pd.DataFrame({'stars':list(d.values())})\n",
    "    rest_categories.index = d.keys()\n",
    "    rest_categories['number'] = rest_categories['stars'].apply(lambda a : len(a))\n",
    "    rest_categories['percentage'] = rest_categories['number'] / len(l) * 100\n",
    "    rest_categories['average_stars'] = rest_categories['stars'].apply(lambda a : sum(a) / len(a))\n",
    "    rest_categories = rest_categories.drop(['stars'], axis=1)\n",
    "    \n",
    "    return rest_categories\n",
    "\n",
    "#extracting attributes\n",
    "def get_rests_from_attributes(df,args):\n",
    "    df=df.dropna().copy()\n",
    "    partof_rests = pd.DataFrame({'name':df['name'], 'stars':df['stars']})\n",
    "    def helper(attribute):\n",
    "        attributes = []\n",
    "        for a in df['attributes']:\n",
    "            a=ast.literal_eval(a)\n",
    "            if attribute in a.keys():\n",
    "                attributes.append(a[attribute])\n",
    "            else:\n",
    "                attributes.append(None)\n",
    "            \n",
    "        return attributes\n",
    "\n",
    "    for i in range(len(args)):\n",
    "        attribute = args[i]\n",
    "        partof_rests[attribute] = helper(attribute)\n",
    "    \n",
    "    return partof_rests"
   ]
  },
  {
   "cell_type": "code",
   "execution_count": 270,
   "id": "b12cc935",
   "metadata": {},
   "outputs": [
    {
     "data": {
      "text/html": [
       "<div>\n",
       "<style scoped>\n",
       "    .dataframe tbody tr th:only-of-type {\n",
       "        vertical-align: middle;\n",
       "    }\n",
       "\n",
       "    .dataframe tbody tr th {\n",
       "        vertical-align: top;\n",
       "    }\n",
       "\n",
       "    .dataframe thead th {\n",
       "        text-align: right;\n",
       "    }\n",
       "</style>\n",
       "<table border=\"1\" class=\"dataframe\">\n",
       "  <thead>\n",
       "    <tr style=\"text-align: right;\">\n",
       "      <th></th>\n",
       "      <th>number</th>\n",
       "      <th>percentage</th>\n",
       "      <th>average_stars</th>\n",
       "    </tr>\n",
       "  </thead>\n",
       "  <tbody>\n",
       "    <tr>\n",
       "      <th>Restaurants</th>\n",
       "      <td>688</td>\n",
       "      <td>38.695163</td>\n",
       "      <td>3.570494</td>\n",
       "    </tr>\n",
       "    <tr>\n",
       "      <th>Bakeries</th>\n",
       "      <td>196</td>\n",
       "      <td>11.023622</td>\n",
       "      <td>3.869898</td>\n",
       "    </tr>\n",
       "    <tr>\n",
       "      <th>Donuts</th>\n",
       "      <td>192</td>\n",
       "      <td>10.798650</td>\n",
       "      <td>2.736979</td>\n",
       "    </tr>\n",
       "    <tr>\n",
       "      <th>Cafes</th>\n",
       "      <td>186</td>\n",
       "      <td>10.461192</td>\n",
       "      <td>3.978495</td>\n",
       "    </tr>\n",
       "    <tr>\n",
       "      <th>Breakfast &amp; Brunch</th>\n",
       "      <td>181</td>\n",
       "      <td>10.179978</td>\n",
       "      <td>3.787293</td>\n",
       "    </tr>\n",
       "    <tr>\n",
       "      <th>Sandwiches</th>\n",
       "      <td>176</td>\n",
       "      <td>9.898763</td>\n",
       "      <td>3.781250</td>\n",
       "    </tr>\n",
       "    <tr>\n",
       "      <th>Desserts</th>\n",
       "      <td>139</td>\n",
       "      <td>7.817773</td>\n",
       "      <td>4.039568</td>\n",
       "    </tr>\n",
       "    <tr>\n",
       "      <th>Coffee Roasteries</th>\n",
       "      <td>113</td>\n",
       "      <td>6.355456</td>\n",
       "      <td>4.199115</td>\n",
       "    </tr>\n",
       "    <tr>\n",
       "      <th>Juice Bars &amp; Smoothies</th>\n",
       "      <td>108</td>\n",
       "      <td>6.074241</td>\n",
       "      <td>3.916667</td>\n",
       "    </tr>\n",
       "    <tr>\n",
       "      <th>Fast Food</th>\n",
       "      <td>89</td>\n",
       "      <td>5.005624</td>\n",
       "      <td>2.185393</td>\n",
       "    </tr>\n",
       "  </tbody>\n",
       "</table>\n",
       "</div>"
      ],
      "text/plain": [
       "                        number  percentage  average_stars\n",
       "Restaurants                688   38.695163       3.570494\n",
       "Bakeries                   196   11.023622       3.869898\n",
       "Donuts                     192   10.798650       2.736979\n",
       "Cafes                      186   10.461192       3.978495\n",
       "Breakfast & Brunch         181   10.179978       3.787293\n",
       "Sandwiches                 176    9.898763       3.781250\n",
       "Desserts                   139    7.817773       4.039568\n",
       "Coffee Roasteries          113    6.355456       4.199115\n",
       "Juice Bars & Smoothies     108    6.074241       3.916667\n",
       "Fast Food                   89    5.005624       2.185393"
      ]
     },
     "execution_count": 270,
     "metadata": {},
     "output_type": "execute_result"
    }
   ],
   "source": [
    "coffee_cat =categories_type(coffee_buz)\n",
    "top10 = coffee_cat.sort_values('number', ascending = False)[2:]\n",
    "top10[0:10]"
   ]
  },
  {
   "cell_type": "code",
   "execution_count": 271,
   "id": "571edf35",
   "metadata": {},
   "outputs": [
    {
     "data": {
      "text/html": [
       "<div>\n",
       "<style scoped>\n",
       "    .dataframe tbody tr th:only-of-type {\n",
       "        vertical-align: middle;\n",
       "    }\n",
       "\n",
       "    .dataframe tbody tr th {\n",
       "        vertical-align: top;\n",
       "    }\n",
       "\n",
       "    .dataframe thead th {\n",
       "        text-align: right;\n",
       "    }\n",
       "</style>\n",
       "<table border=\"1\" class=\"dataframe\">\n",
       "  <thead>\n",
       "    <tr style=\"text-align: right;\">\n",
       "      <th></th>\n",
       "      <th>number</th>\n",
       "      <th>percentage</th>\n",
       "      <th>average_stars</th>\n",
       "    </tr>\n",
       "  </thead>\n",
       "  <tbody>\n",
       "    <tr>\n",
       "      <th>Coffee Roasteries</th>\n",
       "      <td>113</td>\n",
       "      <td>6.355456</td>\n",
       "      <td>4.199115</td>\n",
       "    </tr>\n",
       "    <tr>\n",
       "      <th>Specialty Food</th>\n",
       "      <td>40</td>\n",
       "      <td>2.249719</td>\n",
       "      <td>4.112500</td>\n",
       "    </tr>\n",
       "    <tr>\n",
       "      <th>Desserts</th>\n",
       "      <td>139</td>\n",
       "      <td>7.817773</td>\n",
       "      <td>4.039568</td>\n",
       "    </tr>\n",
       "    <tr>\n",
       "      <th>Ice Cream &amp; Frozen Yogurt</th>\n",
       "      <td>71</td>\n",
       "      <td>3.993251</td>\n",
       "      <td>4.000000</td>\n",
       "    </tr>\n",
       "    <tr>\n",
       "      <th>Cafes</th>\n",
       "      <td>186</td>\n",
       "      <td>10.461192</td>\n",
       "      <td>3.978495</td>\n",
       "    </tr>\n",
       "  </tbody>\n",
       "</table>\n",
       "</div>"
      ],
      "text/plain": [
       "                           number  percentage  average_stars\n",
       "Coffee Roasteries             113    6.355456       4.199115\n",
       "Specialty Food                 40    2.249719       4.112500\n",
       "Desserts                      139    7.817773       4.039568\n",
       "Ice Cream & Frozen Yogurt      71    3.993251       4.000000\n",
       "Cafes                         186   10.461192       3.978495"
      ]
     },
     "execution_count": 271,
     "metadata": {},
     "output_type": "execute_result"
    }
   ],
   "source": [
    "coffee_cat[coffee_cat['number'] >=40].sort_values('average_stars', ascending = False)[:5]\n",
    "#plt.scatter(coffee_cat.number,coffee_cat.average_stars)\n",
    "#plt.xlim([0,100])"
   ]
  },
  {
   "cell_type": "code",
   "execution_count": 272,
   "id": "1855fabb",
   "metadata": {},
   "outputs": [
    {
     "data": {
      "text/plain": [
       "'{\\'RestaurantsTakeOut\\': \\'False\\', \\'RestaurantsDelivery\\': \\'False\\', \\'GoodForKids\\': \\'True\\', \\'WiFi\\': \"u\\'free\\'\", \\'BusinessParking\\': \"{\\'garage\\': None, \\'street\\': True, \\'validated\\': None, \\'lot\\': None, \\'valet\\': False}\"}'"
      ]
     },
     "execution_count": 272,
     "metadata": {},
     "output_type": "execute_result"
    }
   ],
   "source": [
    "coffee_buz.attributes[19]"
   ]
  },
  {
   "cell_type": "code",
   "execution_count": 293,
   "id": "43f45d63",
   "metadata": {},
   "outputs": [
    {
     "data": {
      "text/html": [
       "<div>\n",
       "<style scoped>\n",
       "    .dataframe tbody tr th:only-of-type {\n",
       "        vertical-align: middle;\n",
       "    }\n",
       "\n",
       "    .dataframe tbody tr th {\n",
       "        vertical-align: top;\n",
       "    }\n",
       "\n",
       "    .dataframe thead th {\n",
       "        text-align: right;\n",
       "    }\n",
       "</style>\n",
       "<table border=\"1\" class=\"dataframe\">\n",
       "  <thead>\n",
       "    <tr style=\"text-align: right;\">\n",
       "      <th></th>\n",
       "      <th>name</th>\n",
       "      <th>stars</th>\n",
       "      <th>WiFi</th>\n",
       "      <th>NoiseLevel</th>\n",
       "      <th>BikeParking</th>\n",
       "      <th>OutdoorSeating</th>\n",
       "      <th>RestaurantsPriceRange2</th>\n",
       "      <th>RestaurantsTakeOut</th>\n",
       "      <th>BusinessAcceptsBitcoin</th>\n",
       "      <th>HasTV</th>\n",
       "      <th>BusinessAcceptsCreditCards</th>\n",
       "    </tr>\n",
       "  </thead>\n",
       "  <tbody>\n",
       "    <tr>\n",
       "      <th>1504</th>\n",
       "      <td>Dunkin'</td>\n",
       "      <td>1.5</td>\n",
       "      <td>u'free'</td>\n",
       "      <td>None</td>\n",
       "      <td>None</td>\n",
       "      <td>None</td>\n",
       "      <td>1</td>\n",
       "      <td>True</td>\n",
       "      <td>None</td>\n",
       "      <td>None</td>\n",
       "      <td>True</td>\n",
       "    </tr>\n",
       "    <tr>\n",
       "      <th>965</th>\n",
       "      <td>Starbucks</td>\n",
       "      <td>3.5</td>\n",
       "      <td>u'free'</td>\n",
       "      <td>None</td>\n",
       "      <td>True</td>\n",
       "      <td>True</td>\n",
       "      <td>1</td>\n",
       "      <td>True</td>\n",
       "      <td>None</td>\n",
       "      <td>None</td>\n",
       "      <td>True</td>\n",
       "    </tr>\n",
       "  </tbody>\n",
       "</table>\n",
       "</div>"
      ],
      "text/plain": [
       "           name  stars     WiFi NoiseLevel BikeParking OutdoorSeating  \\\n",
       "1504    Dunkin'    1.5  u'free'       None        None           None   \n",
       "965   Starbucks    3.5  u'free'       None        True           True   \n",
       "\n",
       "     RestaurantsPriceRange2 RestaurantsTakeOut BusinessAcceptsBitcoin HasTV  \\\n",
       "1504                      1               True                   None  None   \n",
       "965                       1               True                   None  None   \n",
       "\n",
       "     BusinessAcceptsCreditCards  \n",
       "1504                       True  \n",
       "965                        True  "
      ]
     },
     "execution_count": 293,
     "metadata": {},
     "output_type": "execute_result"
    }
   ],
   "source": [
    "coffee_attr = get_rests_from_attributes(coffee_buz,['WiFi','NoiseLevel',\n",
    "                                                    'BikeParking','OutdoorSeating',\n",
    "                                                    'RestaurantsPriceRange2',\n",
    "                                                    'RestaurantsTakeOut',\n",
    "                                                   'BusinessAcceptsBitcoin','HasTV','BusinessAcceptsCreditCards'])\n",
    "coffee_attr.sample(2)"
   ]
  },
  {
   "cell_type": "code",
   "execution_count": 294,
   "id": "f9288376",
   "metadata": {},
   "outputs": [
    {
     "data": {
      "text/html": [
       "<div>\n",
       "<style scoped>\n",
       "    .dataframe tbody tr th:only-of-type {\n",
       "        vertical-align: middle;\n",
       "    }\n",
       "\n",
       "    .dataframe tbody tr th {\n",
       "        vertical-align: top;\n",
       "    }\n",
       "\n",
       "    .dataframe thead th {\n",
       "        text-align: right;\n",
       "    }\n",
       "</style>\n",
       "<table border=\"1\" class=\"dataframe\">\n",
       "  <thead>\n",
       "    <tr style=\"text-align: right;\">\n",
       "      <th></th>\n",
       "      <th>name</th>\n",
       "      <th>stars</th>\n",
       "      <th>WiFi</th>\n",
       "      <th>NoiseLevel</th>\n",
       "      <th>BikeParking</th>\n",
       "      <th>OutdoorSeating</th>\n",
       "      <th>RestaurantsPriceRange2</th>\n",
       "      <th>RestaurantsTakeOut</th>\n",
       "      <th>BusinessAcceptsBitcoin</th>\n",
       "      <th>HasTV</th>\n",
       "      <th>BusinessAcceptsCreditCards</th>\n",
       "    </tr>\n",
       "  </thead>\n",
       "  <tbody>\n",
       "    <tr>\n",
       "      <th>964</th>\n",
       "      <td>Gold Cup Coffee</td>\n",
       "      <td>4.5</td>\n",
       "      <td>'free'</td>\n",
       "      <td>None</td>\n",
       "      <td>None</td>\n",
       "      <td>None</td>\n",
       "      <td>None</td>\n",
       "      <td>None</td>\n",
       "      <td>None</td>\n",
       "      <td>None</td>\n",
       "      <td>True</td>\n",
       "    </tr>\n",
       "  </tbody>\n",
       "</table>\n",
       "</div>"
      ],
      "text/plain": [
       "                name  stars    WiFi NoiseLevel BikeParking OutdoorSeating  \\\n",
       "964  Gold Cup Coffee    4.5  'free'       None        None           None   \n",
       "\n",
       "    RestaurantsPriceRange2 RestaurantsTakeOut BusinessAcceptsBitcoin HasTV  \\\n",
       "964                   None               None                   None  None   \n",
       "\n",
       "    BusinessAcceptsCreditCards  \n",
       "964                       True  "
      ]
     },
     "execution_count": 294,
     "metadata": {},
     "output_type": "execute_result"
    }
   ],
   "source": [
    "import re\n",
    "import seaborn as sns\n",
    "def replace_u(s):\n",
    "    return re.sub('u'+r\"'\",r\"'\",str(s))\n",
    "\n",
    "coffee_attr['WiFi']=coffee_attr['WiFi'].apply(replace_u)\n",
    "coffee_attr['NoiseLevel']=coffee_attr['NoiseLevel'].apply(replace_u)\n",
    "\n",
    "\n",
    "coffee_attr.sample()\n"
   ]
  },
  {
   "cell_type": "code",
   "execution_count": 295,
   "id": "76037bed",
   "metadata": {},
   "outputs": [
    {
     "data": {
      "image/png": "[encoded data removed]",
      "text/plain": [
       "<Figure size 1152x432 with 5 Axes>"
      ]
     },
     "metadata": {},
     "output_type": "display_data"
    }
   ],
   "source": [
    "attributes = ['WiFi','NoiseLevel','BikeParking','OutdoorSeating',\n",
    "             'RestaurantsPriceRange2']\n",
    "attributes_name=['WiFi','Noise Level','Bike Parking','Outdoor Seating',\n",
    "             'Price Range']\n",
    "sns.set(style=\"whitegrid\")\n",
    "fig, axes = plt.subplots(nrows=1,ncols=len(attributes), sharey=True, figsize=(16,6))\n",
    "i=0\n",
    "for attr in attributes:\n",
    "    df = round(coffee_attr.groupby([attr]).mean().reset_index(),2)\n",
    "    df = df[df[attr]!=\"None\"].sort_values('stars', ascending = False)\n",
    "    plt.sca(axes[i])\n",
    "    axes[i]=sns.barplot(x = attr, y = 'stars', data = df, palette = 'Blues')\n",
    "    axes[i].set(xlabel=attributes_name[i])\n",
    "    axes[i].set(ylabel='')\n",
    "    if i==0:\n",
    "        axes[i].set(ylabel='Average Ratings')\n",
    "    axes[i].bar_label(axes[i].containers[0])\n",
    "    axes[i].tick_params(axis='x', rotation=45)\n",
    "\n",
    "    i+=1\n",
    "    #plt.ylabel('Average Rating',fontsize=10)\n",
    "plt.ylim([2.3, 4.3])\n",
    "fig.tight_layout()\n",
    "fig.suptitle('Ratings vs Attributes')\n",
    "plt.show()\n"
   ]
  },
  {
   "cell_type": "code",
   "execution_count": 276,
   "id": "d1dda16a",
   "metadata": {},
   "outputs": [
    {
     "data": {
      "image/png": "[encoded data removed]",
      "text/plain": [
       "<Figure size 864x432 with 1 Axes>"
      ]
     },
     "metadata": {},
     "output_type": "display_data"
    }
   ],
   "source": [
    "plt.figure(figsize=(12,6))\n",
    "grouped = coffee_buz.stars.value_counts().sort_index()\n",
    "sns.barplot(x=grouped.index, y=grouped.values, palette=sns.color_palette(\"RdBu_r\", len(grouped)))\n",
    "plt.xlabel('Average Rating', labelpad=10, fontsize=14)\n",
    "plt.ylabel('Count of restaurants', fontsize=14)\n",
    "plt.title('Count of Restaurants against Ratings', fontsize=15)\n",
    "plt.tick_params(labelsize=14)\n",
    "for  i, v in enumerate(grouped):\n",
    "    plt.text(i, v*1.02, str(v), horizontalalignment ='center',fontweight='bold', fontsize=14)"
   ]
  },
  {
   "cell_type": "code",
   "execution_count": 277,
   "id": "24fadc99",
   "metadata": {},
   "outputs": [
    {
     "data": {
      "image/png": "[encoded data removed]",
      "text/plain": [
       "<Figure size 864x576 with 1 Axes>"
      ]
     },
     "metadata": {},
     "output_type": "display_data"
    }
   ],
   "source": [
    "plt.figure(figsize=(12,8))\n",
    "grouped = coffee_buz.groupby(['stars']).median().reset_index()\n",
    "sns.barplot(x=grouped.stars, y=grouped.review_count, palette=sns.color_palette(\"RdBu_r\", len(grouped)))\n",
    "plt.xlabel('Rating', labelpad=10, fontsize=14)\n",
    "plt.ylabel('Median Review Counts', fontsize=14)\n",
    "plt.title('Average Review Counts against Ratings', fontsize=15)\n",
    "plt.tick_params(labelsize=14)\n",
    "plt.ylim([0,45])\n",
    "for i in grouped.index:\n",
    "    v=round(grouped['review_count'][i],2)\n",
    "    plt.text(i, v*1.02, str(v), horizontalalignment ='center',fontweight='bold', fontsize=14)"
   ]
  },
  {
   "cell_type": "code",
   "execution_count": 296,
   "id": "3ea6555f",
   "metadata": {},
   "outputs": [],
   "source": [
    "from datetime import datetime\n",
    "import math\n",
    "FMT = '%H:%M'\n",
    "def time_diff(h):\n",
    "    h=str(h)\n",
    "    if h!='nan':\n",
    "        h=ast.literal_eval(h)\n",
    "        ttl=0\n",
    "        for i in h :\n",
    "            s=h[i].split('-')\n",
    "            #print(s)\n",
    "            op=datetime.strptime(s[0], FMT)\n",
    "            #print(op)\n",
    "            #print(s[1])\n",
    "            #print(op.hour)\n",
    "            cl=datetime.strptime(s[1], FMT)\n",
    "            diff=(cl.hour-op.hour)\n",
    "            if diff>=0:\n",
    "                ttl+=diff\n",
    "            else:\n",
    "                ttl+=24+diff\n",
    "            #ttl=op.hour\n",
    "\n",
    "        return ttl/7\n",
    "    else:\n",
    "        return -999\n",
    "coffee_buz['total_hours']=  coffee_buz['stars']*0\n",
    "#print(coffee.total)\n",
    "coffee_buz['total_hours']=coffee_buz['hours'].apply(time_diff)"
   ]
  },
  {
   "cell_type": "code",
   "execution_count": 418,
   "id": "61a8bb3e",
   "metadata": {},
   "outputs": [
    {
     "name": "stdout",
     "output_type": "stream",
     "text": [
      "10.857142857142858\n"
     ]
    },
    {
     "data": {
      "image/png": "[encoded data removed]",
      "text/plain": [
       "<Figure size 864x576 with 1 Axes>"
      ]
     },
     "metadata": {},
     "output_type": "display_data"
    }
   ],
   "source": [
    "df = coffee_buz.copy()\n",
    "df=df[df.total_hours!=-999]\n",
    "df=df[df.total_hours!=0]\n",
    "plt.figure(figsize=(12,8))\n",
    "grouped = df.groupby(['stars']).median().reset_index()\n",
    "sns.boxplot(x=df.stars, y=df.total_hours, palette=sns.color_palette(\"RdBu_r\", len(grouped)))\n",
    "plt.xlabel('Ratings', labelpad=10, fontsize=14)\n",
    "plt.ylabel('Average Daily Hours', fontsize=14)\n",
    "plt.title('Average Daily Hours against Ratings', fontsize=15)\n",
    "plt.tick_params(labelsize=14)\n",
    "plt.ylim([-1,25])\n",
    "for i in grouped.index:\n",
    "    v=round(grouped['total_hours'][i],2)\n",
    "    plt.text(i, v*1.02, str(v), horizontalalignment ='center',fontweight='bold', fontsize=12)\n",
    "print(df.total_hours.median())"
   ]
  },
  {
   "cell_type": "code",
   "execution_count": 298,
   "id": "1d5272bf",
   "metadata": {},
   "outputs": [],
   "source": [
    "def rating(star):\n",
    "    if star<4:\n",
    "        return 0\n",
    "    else: return 1\n",
    "coffee_attr['rating']=coffee_attr['stars'].apply(rating)"
   ]
  },
  {
   "cell_type": "code",
   "execution_count": 605,
   "id": "c7460668",
   "metadata": {},
   "outputs": [
    {
     "data": {
      "text/html": [
       "<div>\n",
       "<style scoped>\n",
       "    .dataframe tbody tr th:only-of-type {\n",
       "        vertical-align: middle;\n",
       "    }\n",
       "\n",
       "    .dataframe tbody tr th {\n",
       "        vertical-align: top;\n",
       "    }\n",
       "\n",
       "    .dataframe thead th {\n",
       "        text-align: right;\n",
       "    }\n",
       "</style>\n",
       "<table border=\"1\" class=\"dataframe\">\n",
       "  <thead>\n",
       "    <tr style=\"text-align: right;\">\n",
       "      <th></th>\n",
       "      <th>name</th>\n",
       "      <th>stars</th>\n",
       "      <th>rating</th>\n",
       "      <th>WiFi_'no'</th>\n",
       "      <th>WiFi_'paid'</th>\n",
       "      <th>WiFi_None</th>\n",
       "      <th>NoiseLevel_'loud'</th>\n",
       "      <th>NoiseLevel_'quiet'</th>\n",
       "      <th>NoiseLevel_'very_loud'</th>\n",
       "      <th>NoiseLevel_None</th>\n",
       "      <th>...</th>\n",
       "      <th>OutdoorSeating_True</th>\n",
       "      <th>RestaurantsPriceRange2_2</th>\n",
       "      <th>RestaurantsPriceRange2_3</th>\n",
       "      <th>RestaurantsPriceRange2_4</th>\n",
       "      <th>RestaurantsPriceRange2_None</th>\n",
       "      <th>BusinessAcceptsBitcoin_True</th>\n",
       "      <th>HasTV_True</th>\n",
       "      <th>BusinessAcceptsCreditCards_True</th>\n",
       "      <th>RestaurantsTakeOut_None</th>\n",
       "      <th>RestaurantsTakeOut_True</th>\n",
       "    </tr>\n",
       "  </thead>\n",
       "  <tbody>\n",
       "    <tr>\n",
       "      <th>1332</th>\n",
       "      <td>Starbucks</td>\n",
       "      <td>3.5</td>\n",
       "      <td>0</td>\n",
       "      <td>0</td>\n",
       "      <td>0</td>\n",
       "      <td>0</td>\n",
       "      <td>0</td>\n",
       "      <td>0</td>\n",
       "      <td>0</td>\n",
       "      <td>1</td>\n",
       "      <td>...</td>\n",
       "      <td>1</td>\n",
       "      <td>1</td>\n",
       "      <td>0</td>\n",
       "      <td>0</td>\n",
       "      <td>0</td>\n",
       "      <td>0</td>\n",
       "      <td>0</td>\n",
       "      <td>1</td>\n",
       "      <td>0</td>\n",
       "      <td>1</td>\n",
       "    </tr>\n",
       "  </tbody>\n",
       "</table>\n",
       "<p>1 rows × 23 columns</p>\n",
       "</div>"
      ],
      "text/plain": [
       "           name  stars  rating  WiFi_'no'  WiFi_'paid'  WiFi_None  \\\n",
       "1332  Starbucks    3.5       0          0            0          0   \n",
       "\n",
       "      NoiseLevel_'loud'  NoiseLevel_'quiet'  NoiseLevel_'very_loud'  \\\n",
       "1332                  0                   0                       0   \n",
       "\n",
       "      NoiseLevel_None  ...  OutdoorSeating_True  RestaurantsPriceRange2_2  \\\n",
       "1332                1  ...                    1                         1   \n",
       "\n",
       "      RestaurantsPriceRange2_3  RestaurantsPriceRange2_4  \\\n",
       "1332                         0                         0   \n",
       "\n",
       "      RestaurantsPriceRange2_None  BusinessAcceptsBitcoin_True  HasTV_True  \\\n",
       "1332                            0                            0           0   \n",
       "\n",
       "      BusinessAcceptsCreditCards_True  RestaurantsTakeOut_None  \\\n",
       "1332                                1                        0   \n",
       "\n",
       "      RestaurantsTakeOut_True  \n",
       "1332                        1  \n",
       "\n",
       "[1 rows x 23 columns]"
      ]
     },
     "execution_count": 605,
     "metadata": {},
     "output_type": "execute_result"
    }
   ],
   "source": [
    "temp = pd.get_dummies(coffee_attr,columns=['WiFi','NoiseLevel','BikeParking','OutdoorSeating',\n",
    "                                    'RestaurantsPriceRange2','BusinessAcceptsBitcoin','HasTV','BusinessAcceptsCreditCards',\n",
    "                                          'RestaurantsTakeOut'],drop_first=True)\n",
    "temp.sample()"
   ]
  },
  {
   "cell_type": "code",
   "execution_count": 606,
   "id": "af289761",
   "metadata": {},
   "outputs": [
    {
     "name": "stdout",
     "output_type": "stream",
     "text": [
      "Index(['name', 'stars', 'rating', 'WiFi_'no'', 'WiFi_'paid'', 'WiFi_None',\n",
      "       'NoiseLevel_'loud'', 'NoiseLevel_'quiet'', 'NoiseLevel_'very_loud'',\n",
      "       'NoiseLevel_None', 'BikeParking_None', 'BikeParking_True',\n",
      "       'OutdoorSeating_None', 'OutdoorSeating_True',\n",
      "       'RestaurantsPriceRange2_2', 'RestaurantsPriceRange2_3',\n",
      "       'RestaurantsPriceRange2_4', 'RestaurantsPriceRange2_None',\n",
      "       'BusinessAcceptsBitcoin_True', 'HasTV_True',\n",
      "       'BusinessAcceptsCreditCards_True', 'RestaurantsTakeOut_None',\n",
      "       'RestaurantsTakeOut_True', 'total_hours', 'review_count'],\n",
      "      dtype='object')\n"
     ]
    },
    {
     "data": {
      "text/plain": [
       "Index(['WiFi_'no'', 'WiFi_'paid'', 'NoiseLevel_'loud'', 'NoiseLevel_'quiet'',\n",
       "       'NoiseLevel_'very_loud'', 'BikeParking_True', 'OutdoorSeating_True',\n",
       "       'RestaurantsPriceRange2_2', 'RestaurantsPriceRange2_3',\n",
       "       'RestaurantsPriceRange2_4', 'BusinessAcceptsBitcoin_True', 'HasTV_True',\n",
       "       'BusinessAcceptsCreditCards_True', 'RestaurantsTakeOut_True',\n",
       "       'total_hours', 'review_count'],\n",
       "      dtype='object')"
      ]
     },
     "execution_count": 606,
     "metadata": {},
     "output_type": "execute_result"
    }
   ],
   "source": [
    "def map1(x):\n",
    "    if x==-999:\n",
    "        return 10.5\n",
    "    else: return x\n",
    "temp['total_hours']=coffee_buz['total_hours']\n",
    "temp['review_count']=coffee_buz['review_count']\n",
    "print(temp.columns)\n",
    "temp=temp.drop(columns=['WiFi_None','NoiseLevel_None','BikeParking_None',\n",
    "                   'OutdoorSeating_None',\n",
    "                   'RestaurantsPriceRange2_None','RestaurantsTakeOut_None'])\n",
    "features = temp.columns[3:]\n",
    "features"
   ]
  },
  {
   "cell_type": "code",
   "execution_count": 607,
   "id": "f9968c47",
   "metadata": {},
   "outputs": [],
   "source": [
    "from sklearn.preprocessing import StandardScaler\n",
    "scl=StandardScaler()\n",
    "X=temp[features]\n",
    "X=scl.fit_transform(X)\n",
    "y=temp.rating\n"
   ]
  },
  {
   "cell_type": "code",
   "execution_count": 608,
   "id": "3d8a63c0",
   "metadata": {},
   "outputs": [],
   "source": [
    "from sklearn.linear_model import LogisticRegression\n",
    "from sklearn.tree import DecisionTreeClassifier\n",
    "from sklearn.ensemble import RandomForestClassifier,AdaBoostClassifier\n",
    "from sklearn.svm import SVC\n",
    "from sklearn.model_selection import cross_val_score\n",
    "from sklearn.cluster import KMeans\n",
    "from sklearn.neighbors import KNeighborsClassifier\n",
    "from sklearn.metrics import classification_report,silhouette_score\n",
    "from sklearn.naive_bayes import BernoulliNB,MultinomialNB\n",
    "from sklearn.discriminant_analysis import QuadraticDiscriminantAnalysis,LinearDiscriminantAnalysis\n",
    "from sklearn.model_selection import train_test_split\n",
    "from sklearn.neural_network import MLPClassifier\n",
    "classifiers=[LogisticRegression(C=1e3,max_iter=100),DecisionTreeClassifier(max_depth=7),\n",
    "             RandomForestClassifier(max_depth=8),\n",
    "            AdaBoostClassifier(),SVC(),KNeighborsClassifier(5),BernoulliNB(),LinearDiscriminantAnalysis()]"
   ]
  },
  {
   "cell_type": "code",
   "execution_count": 609,
   "id": "426695d0",
   "metadata": {},
   "outputs": [
    {
     "name": "stdout",
     "output_type": "stream",
     "text": [
      "LogisticRegression\n",
      "Mean CV Accuracy 0.658 with standard deviation 0.022\n",
      "\n",
      "DecisionTreeClassifier\n",
      "Mean CV Accuracy 0.705 with standard deviation 0.017\n",
      "\n",
      "RandomForestClassifier\n",
      "Mean CV Accuracy 0.745 with standard deviation 0.011\n",
      "\n",
      "AdaBoostClassifier\n",
      "Mean CV Accuracy 0.742 with standard deviation 0.014\n",
      "\n",
      "SVC\n",
      "Mean CV Accuracy 0.709 with standard deviation 0.031\n",
      "\n",
      "KNeighborsClassifier\n",
      "Mean CV Accuracy 0.673 with standard deviation 0.031\n",
      "\n",
      "BernoulliNB\n",
      "Mean CV Accuracy 0.682 with standard deviation 0.019\n",
      "\n",
      "LinearDiscriminantAnalysis\n",
      "Mean CV Accuracy 0.652 with standard deviation 0.021\n",
      "\n"
     ]
    }
   ],
   "source": [
    "X_train,X_test,y_train,y_test = train_test_split(X,y,test_size=0.2,stratify=y,random_state=10)\n",
    "#X_train_train,X_valid,y_train_train,y_valid = train_test_split(X_train,y_train,stratify=y_train,test_size=0.1,random_state=1)\n",
    "\n",
    "for clf in classifiers:\n",
    "    scores = cross_val_score(clf, X_train, y_train, cv=5)\n",
    "    print(clf.__class__.__name__)\n",
    "    print(\"Mean CV Accuracy {acc:.3f} with standard deviation {std:.3f}\".format(acc=scores.mean(),std=scores.std()))\n",
    "    print()"
   ]
  },
  {
   "cell_type": "code",
   "execution_count": 635,
   "id": "30671fcc",
   "metadata": {},
   "outputs": [
    {
     "name": "stdout",
     "output_type": "stream",
     "text": [
      "RandomForestClassifier\n",
      "Train Accuracy 0.8284106891701828\n",
      "Test Accuracy 0.7612359550561798\n"
     ]
    }
   ],
   "source": [
    "clf =RandomForestClassifier(max_depth=8)\n",
    "clf.fit(X_train,y_train)\n",
    "print(clf.__class__.__name__)\n",
    "print('Train Accuracy' ,clf.score(X_train,y_train))\n",
    "print('Test Accuracy' ,clf.score(X_test,y_test))"
   ]
  },
  {
   "cell_type": "code",
   "execution_count": 636,
   "id": "40b03ad2",
   "metadata": {},
   "outputs": [
    {
     "name": "stdout",
     "output_type": "stream",
     "text": [
      "              precision    recall  f1-score   support\n",
      "\n",
      "           0       0.76      0.78      0.77       181\n",
      "           1       0.76      0.74      0.75       175\n",
      "\n",
      "    accuracy                           0.76       356\n",
      "   macro avg       0.76      0.76      0.76       356\n",
      "weighted avg       0.76      0.76      0.76       356\n",
      "\n"
     ]
    }
   ],
   "source": [
    "print(classification_report(clf.predict(X_test),y_test))"
   ]
  },
  {
   "cell_type": "code",
   "execution_count": null,
   "id": "1eabca75",
   "metadata": {},
   "outputs": [],
   "source": []
  },
  {
   "cell_type": "code",
   "execution_count": null,
   "id": "669bec20",
   "metadata": {},
   "outputs": [],
   "source": []
  }
 ],
 "metadata": {
  "kernelspec": {
   "display_name": "Python 3 (ipykernel)",
   "language": "python",
   "name": "python3"
  },
  "language_info": {
   "codemirror_mode": {
    "name": "ipython",
    "version": 3
   },
   "file_extension": ".py",
   "mimetype": "text/x-python",
   "name": "python",
   "nbconvert_exporter": "python",
   "pygments_lexer": "ipython3",
   "version": "3.8.12"
  }
 },
 "nbformat": 4,
 "nbformat_minor": 5
}
